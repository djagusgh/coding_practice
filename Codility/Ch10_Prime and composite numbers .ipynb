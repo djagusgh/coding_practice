{
 "cells": [
  {
   "cell_type": "markdown",
   "metadata": {},
   "source": [
    "### 10.1 Counting divisors\n",
    "\n",
    "<br>\n",
    "- divisor of n : n의 약수\n",
    "\n",
    "divisor 갯수 세는 법\n",
    "<br><br>\n",
    "1) 1 ~ n까지 모두 확인 <br>\n",
    "2) a가 n의 약수이면, n/a도 a의 약수, 두 약수 중 하나는 무조건 n ** 0.5 이하\n",
    "\n"
   ]
  },
  {
   "cell_type": "code",
   "execution_count": 1,
   "metadata": {},
   "outputs": [],
   "source": [
    "# Counting the number of divisors - O(n ** 0.5)\n",
    "def divisors(n):\n",
    "    i = 1\n",
    "    result = 0\n",
    "    while i * i < n:\n",
    "        if n % i == 0:\n",
    "            result += 2\n",
    "        i += 1\n",
    "    if (i * i == n):\n",
    "        result += 1\n",
    "    return result"
   ]
  },
  {
   "cell_type": "markdown",
   "metadata": {},
   "source": [
    "## 10.2 Primality test\n",
    "\n",
    "<br>\n",
    "- n이 소수인지 판별\n",
    "- 2 ~ n - 1 중 n 의 약수가 있는지를 확인\n"
   ]
  },
  {
   "cell_type": "code",
   "execution_count": 3,
   "metadata": {},
   "outputs": [],
   "source": [
    "# 1 : 고려 x -> n >= 2인 것만 고려!\n",
    "def primality(n):\n",
    "    i = 2\n",
    "    while i * i <= n:\n",
    "        if n % i == 0:\n",
    "            return False\n",
    "        i += 1\n",
    "    return True"
   ]
  },
  {
   "cell_type": "markdown",
   "metadata": {},
   "source": [
    "## 10.3 Exercises\n",
    "\n",
    "- 1 ~ n 까지 n개의 코인이 모두 앞면으로 놓여있고\n",
    "i 번째 사람은 i의 배수에 해당하는 코인을 뒤집음\n",
    "\n",
    "<br>\n",
    "\n",
    "--> 최종적으로 뒤집힌 코인의 갯수를 세기\n"
   ]
  },
  {
   "cell_type": "code",
   "execution_count": 9,
   "metadata": {},
   "outputs": [],
   "source": [
    "# Reversing Coin\n",
    "\n",
    "def coins(n):\n",
    "    result = 0\n",
    "    coin = [0] * (n + 1)\n",
    "    for i in range(1, n + 1):\n",
    "        k = i\n",
    "        while k <= n:\n",
    "            coin[k] = (coin[k] + 1) % 2\n",
    "            k += i\n",
    "        # i 번째 사람이 동전 뒤집을 때 이전 것들이 결과는 변하지 않음\n",
    "        result += coin[i]\n",
    "    return result\n"
   ]
  },
  {
   "cell_type": "code",
   "execution_count": 10,
   "metadata": {},
   "outputs": [
    {
     "data": {
      "text/plain": [
       "3"
      ]
     },
     "execution_count": 10,
     "metadata": {},
     "output_type": "execute_result"
    }
   ],
   "source": []
  },
  {
   "cell_type": "code",
   "execution_count": null,
   "metadata": {},
   "outputs": [],
   "source": []
  }
 ],
 "metadata": {
  "kernelspec": {
   "display_name": "Python 3",
   "language": "python",
   "name": "python3"
  },
  "language_info": {
   "codemirror_mode": {
    "name": "ipython",
    "version": 3
   },
   "file_extension": ".py",
   "mimetype": "text/x-python",
   "name": "python",
   "nbconvert_exporter": "python",
   "pygments_lexer": "ipython3",
   "version": "3.7.1"
  }
 },
 "nbformat": 4,
 "nbformat_minor": 2
}
