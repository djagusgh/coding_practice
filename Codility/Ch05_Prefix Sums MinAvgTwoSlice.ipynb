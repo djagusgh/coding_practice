{
 "cells": [
  {
   "cell_type": "markdown",
   "metadata": {},
   "source": [
    "# 문제 내용, 정답 확인\n",
    "\n",
    "https://app.codility.com/demo/results/training8S6R56-Z5J/\n"
   ]
  },
  {
   "cell_type": "code",
   "execution_count": null,
   "metadata": {},
   "outputs": [],
   "source": [
    "# bad solution -> O(N ** 2)\n",
    "\n",
    "def solution(A):\n",
    "    \n",
    "    # write your code in Python 3.6\n",
    "    # 평균 + prefix\n",
    "    \n",
    "    min_avg_list = [0] * len(A)\n",
    "\n",
    "    answer = 0\n",
    "\n",
    "    for i in range(len(A)):\n",
    "        \n",
    "        min_avg = 9999999999999999\n",
    "        avg = A[i]\n",
    "        \n",
    "        for j in range(i + 1, len(A)):\n",
    "            avg = (avg * (j - i) + A[j]) / (j - i + 1)\n",
    "        \n",
    "            \n",
    "            if avg < min_avg:\n",
    "                min_avg = avg\n",
    "                \n",
    "        min_avg_list[i] = min_avg\n",
    "    \n",
    "    del min_avg_list[-1]\n",
    "    \n",
    "    \n",
    "    return min_avg_list.index(min(min_avg_list))"
   ]
  },
  {
   "cell_type": "code",
   "execution_count": 1,
   "metadata": {},
   "outputs": [],
   "source": [
    "# good solution\n",
    "\n",
    "# slice들 중 최소 평균을 갖는 slice는 길이 2 or 3인 slice에서 모두 나타난다!\n",
    "# 참고 사이트 : https://codesays.com/2014/solution-to-min-avg-two-slice-by-codility/#comment-11281\n",
    "\n",
    "def solution(A):\n",
    "    \n",
    "    # write your code in Python 3.6\n",
    "    \n",
    "    N = len(A)\n",
    "    first_avg = (A[0] + A[1]) / 2\n",
    "    min_idx = 0\n",
    "    \n",
    "    # only consider (length = 2) or (length = 3)\n",
    "    for i in range(N - 2):\n",
    "        \n",
    "        two_avg = (A[i] + A[i + 1]) / 2\n",
    "        if two_avg < first_avg:\n",
    "            first_avg = two_avg\n",
    "            min_idx = i\n",
    "        \n",
    "        three_avg = (A[i] + A[i + 1] + A[i + 2]) / 3\n",
    "        if three_avg < first_avg:\n",
    "            first_avg = three_avg\n",
    "            min_idx = i\n",
    "    \n",
    "    # last\n",
    "    last_avg = (A[N - 2] + A[N - 1]) / 2\n",
    "    if last_avg < first_avg:\n",
    "        first_avg = last_avg\n",
    "        min_idx = N - 2\n",
    "    \n",
    "    return min_idx"
   ]
  },
  {
   "cell_type": "code",
   "execution_count": null,
   "metadata": {},
   "outputs": [],
   "source": []
  }
 ],
 "metadata": {
  "kernelspec": {
   "display_name": "Python 3",
   "language": "python",
   "name": "python3"
  },
  "language_info": {
   "codemirror_mode": {
    "name": "ipython",
    "version": 3
   },
   "file_extension": ".py",
   "mimetype": "text/x-python",
   "name": "python",
   "nbconvert_exporter": "python",
   "pygments_lexer": "ipython3",
   "version": "3.7.1"
  }
 },
 "nbformat": 4,
 "nbformat_minor": 2
}
