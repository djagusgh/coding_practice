{
 "cells": [
  {
   "cell_type": "markdown",
   "metadata": {},
   "source": [
    "## 문제 내용, 정답 확인\n",
    "\n",
    "https://app.codility.com/demo/results/trainingFSKVRU-VD6/"
   ]
  },
  {
   "cell_type": "code",
   "execution_count": null,
   "metadata": {},
   "outputs": [],
   "source": [
    "# O(n * n) : 비효율적인 코드\n",
    "\n",
    "def solution(A):\n",
    "    # write your code in Python 3.6\n",
    "    minimum = abs(sum(A[:1]) - sum(A[1:]))\n",
    "    for i in range(1, len(A)):\n",
    "        temp = abs(sum(A[:i]) - sum(A[i:]))\n",
    "        \n",
    "        if temp < minimum:\n",
    "            minimum = temp\n",
    "    \n",
    "    return minimum"
   ]
  },
  {
   "cell_type": "code",
   "execution_count": null,
   "metadata": {},
   "outputs": [],
   "source": [
    "def solution(A):\n",
    "    # write your code in Python 3.6\n",
    "    \n",
    "    left = sum(A[:1])\n",
    "    right = sum(A[1:])\n",
    "    \n",
    "    minimum = abs(left - right)\n",
    "\n",
    "    for i in range(1, len(A) - 1):\n",
    "        left += A[i]\n",
    "        right -= A[i]\n",
    "        \n",
    "        temp = abs(left - right)\n",
    "        \n",
    "        if temp < minimum:\n",
    "            minimum = temp\n",
    "    \n",
    "    return minimum\n",
    "        "
   ]
  }
 ],
 "metadata": {
  "kernelspec": {
   "display_name": "Python 3",
   "language": "python",
   "name": "python3"
  },
  "language_info": {
   "codemirror_mode": {
    "name": "ipython",
    "version": 3
   },
   "file_extension": ".py",
   "mimetype": "text/x-python",
   "name": "python",
   "nbconvert_exporter": "python",
   "pygments_lexer": "ipython3",
   "version": "3.7.1"
  }
 },
 "nbformat": 4,
 "nbformat_minor": 2
}
