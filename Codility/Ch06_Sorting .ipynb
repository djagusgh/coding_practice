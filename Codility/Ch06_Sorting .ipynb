{
 "cells": [
  {
   "cell_type": "markdown",
   "metadata": {},
   "source": [
    "### https://codility.com/media/train/4-Sorting.pdf"
   ]
  },
  {
   "cell_type": "code",
   "execution_count": 1,
   "metadata": {},
   "outputs": [],
   "source": [
    "def selectionSort(A):\n",
    "    n = len(A)\n",
    "    for k in range(n):\n",
    "        minimal = k\n",
    "        for j in range(k + 1, n):\n",
    "            if A[j] < A[minimal]:\n",
    "                minimal = j\n",
    "        A[k], A[minimal] = A[minimal], A[k]\n",
    "    return A\n",
    "            "
   ]
  },
  {
   "cell_type": "code",
   "execution_count": 8,
   "metadata": {},
   "outputs": [],
   "source": [
    "def countingSort(A, k):\n",
    "    n = len(A)\n",
    "    count = [0] * (k + 1)\n",
    "    for i in range(n):\n",
    "        count[A[i]] += 1\n",
    "    p = 0\n",
    "    for i in range(k + 1):\n",
    "        for j in range(count[i]):\n",
    "            A[p] = i\n",
    "            p += 1\n",
    "    return A\n",
    "        "
   ]
  },
  {
   "cell_type": "markdown",
   "metadata": {},
   "source": [
    "### Exercise\n",
    "\n",
    "> Problem : You are given a zero-indexed array A consisting of n > 0 integers; you must return\n",
    "the number of unique values in array A.\n"
   ]
  },
  {
   "cell_type": "code",
   "execution_count": 10,
   "metadata": {},
   "outputs": [],
   "source": [
    "def distinct(A):\n",
    "    n = len(A)\n",
    "    A.sort()\n",
    "    result = 1\n",
    "    for k in range(1, n):\n",
    "        if A[k] != A[k - 1]:\n",
    "            result += 1\n",
    "    return result"
   ]
  },
  {
   "cell_type": "code",
   "execution_count": null,
   "metadata": {},
   "outputs": [],
   "source": []
  }
 ],
 "metadata": {
  "kernelspec": {
   "display_name": "Python 3",
   "language": "python",
   "name": "python3"
  },
  "language_info": {
   "codemirror_mode": {
    "name": "ipython",
    "version": 3
   },
   "file_extension": ".py",
   "mimetype": "text/x-python",
   "name": "python",
   "nbconvert_exporter": "python",
   "pygments_lexer": "ipython3",
   "version": "3.7.1"
  }
 },
 "nbformat": 4,
 "nbformat_minor": 2
}
