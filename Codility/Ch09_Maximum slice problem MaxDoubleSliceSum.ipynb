{
 "cells": [
  {
   "cell_type": "markdown",
   "metadata": {},
   "source": [
    "## 문제 내용, 정답 확인\n",
    "\n",
    "https://app.codility.com/demo/results/trainingZFZFCJ-EJ9/"
   ]
  },
  {
   "cell_type": "code",
   "execution_count": 1,
   "metadata": {},
   "outputs": [],
   "source": [
    "# 방법\n",
    "# left (왼쪽에서부터 구한 MaxSliceSum)\n",
    "# right (오른쪽에서부터 구한 MaxSliceSum)\n",
    "# left + right -> MaxDoubleSliceSum \n",
    "\n",
    "def solution(A):\n",
    "    \n",
    "    N = len(A)\n",
    "    left = [0] * N\n",
    "    right = [0] * N\n",
    "    \n",
    "    for i in range(1, N - 1):\n",
    "        # 0과 비교하는 이유 -> 음수의 합은 의미가 없음( ex) double slice (X, X + 1, X + 2) -> always 0\n",
    "        left[i] = max(0, left[i - 1] + A[i])\n",
    "        \n",
    "    for i in reversed(range(N - 1)):\n",
    "        right[i] = max(right[i + 1] + A[i])\n",
    "        \n",
    "    double_max_slice = 0\n",
    "    \n",
    "    for i in range(1, N - 1):\n",
    "        # i - 1, i + 1??\n",
    "        # --> The sum of double slice (X, Y, Z) is \n",
    "        # the total of A[X + 1] + A[X + 2] + ... + A[Y − 1] + A[Y + 1] + A[Y + 2] + ... + A[Z − 1]\n",
    "        double_max_slice = max(double_max_slice, left[i - 1] + right[i + 1])\n",
    "    \n",
    "    return double_max_slice"
   ]
  },
  {
   "cell_type": "code",
   "execution_count": null,
   "metadata": {},
   "outputs": [],
   "source": []
  }
 ],
 "metadata": {
  "kernelspec": {
   "display_name": "Python 3",
   "language": "python",
   "name": "python3"
  },
  "language_info": {
   "codemirror_mode": {
    "name": "ipython",
    "version": 3
   },
   "file_extension": ".py",
   "mimetype": "text/x-python",
   "name": "python",
   "nbconvert_exporter": "python",
   "pygments_lexer": "ipython3",
   "version": "3.7.1"
  }
 },
 "nbformat": 4,
 "nbformat_minor": 2
}
