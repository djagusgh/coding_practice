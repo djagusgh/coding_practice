{
 "cells": [
  {
   "cell_type": "code",
   "execution_count": null,
   "metadata": {},
   "outputs": [],
   "source": []
  },
  {
   "cell_type": "code",
   "execution_count": null,
   "metadata": {},
   "outputs": [],
   "source": [
    "# bad solution -> O(n ** 2)\n",
    "\n",
    "def solution(A):\n",
    "    # write your code in Python 3.6\n",
    "    N = len(A)\n",
    "    \n",
    "    pos = [ [i - A[i], i + A[i]] for i in range(N)]\n",
    "    pos = sorted(pos, key = lambda x: x[1] - x[0], reverse=True)\n",
    "    \n",
    "    count = 0\n",
    "    for i, val in enumerate(pos):\n",
    "        for j in range(i + 1, N):\n",
    "            if (pos[j][0] >= pos[i][0] and pos[j][0] <= pos[i][1]) or (pos[j][1] >= pos[i][0] and pos[j][1] <= pos[i][1]):\n",
    "                    count += 1\n",
    "        \n",
    "    return count"
   ]
  }
 ],
 "metadata": {
  "kernelspec": {
   "display_name": "Python 3",
   "language": "python",
   "name": "python3"
  },
  "language_info": {
   "codemirror_mode": {
    "name": "ipython",
    "version": 3
   },
   "file_extension": ".py",
   "mimetype": "text/x-python",
   "name": "python",
   "nbconvert_exporter": "python",
   "pygments_lexer": "ipython3",
   "version": "3.7.1"
  }
 },
 "nbformat": 4,
 "nbformat_minor": 2
}
