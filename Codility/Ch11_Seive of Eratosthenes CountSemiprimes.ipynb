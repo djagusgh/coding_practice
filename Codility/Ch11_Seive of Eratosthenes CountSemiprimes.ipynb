{
 "cells": [
  {
   "cell_type": "markdown",
   "metadata": {},
   "source": [
    "## 문제 내용, 정답 확인\n",
    "\n",
    "https://app.codility.com/demo/results/trainingBB5494-EXE/"
   ]
  },
  {
   "cell_type": "code",
   "execution_count": 1,
   "metadata": {},
   "outputs": [],
   "source": [
    "def semiprimes(N):\n",
    "    semi = set()\n",
    "    sieve = [True] * (N + 1)\n",
    "    sieve[0] = sieve[1] = False\n",
    "    \n",
    "    i = 2\n",
    "    while i*i <= N:\n",
    "        if sieve[i] == True:\n",
    "            for j in range(i*i, N+1, i):\n",
    "                sieve[j] = False\n",
    "        i += 1\n",
    "    \n",
    "    i = 2\n",
    "    while i*i <= N:\n",
    "        if sieve[i] == True:\n",
    "            for j in range(i*i, N+1, i):\n",
    "                if j % i == 0 and sieve[j//i] == True:\n",
    "                    semi.add(j)\n",
    "        i += 1\n",
    "\n",
    "    return semi\n",
    "    \n",
    "def solution(N, P, Q):\n",
    "    \n",
    "    semi_set = semiprimes(N)\n",
    "    \n",
    "    prefix = []\n",
    "    \n",
    "    prefix.append(0) # 0\n",
    "    prefix.append(0) # 1\n",
    "    prefix.append(0) # 2\n",
    "    prefix.append(0) # 3\n",
    "    prefix.append(1) # 4\n",
    "    \n",
    "    for idx in range(5, max(Q)+1):\n",
    "        if idx in semi_set:\n",
    "            prefix.append(prefix[-1]+1)\n",
    "        else:\n",
    "            prefix.append(prefix[-1])\n",
    "    \n",
    "    solution = []\n",
    "    \n",
    "    for idx in range(len(Q)):\n",
    "        solution.append(prefix[Q[idx]] - prefix[P[idx] - 1])\n",
    "    \n",
    "    return solution"
   ]
  },
  {
   "cell_type": "code",
   "execution_count": null,
   "metadata": {},
   "outputs": [],
   "source": []
  }
 ],
 "metadata": {
  "kernelspec": {
   "display_name": "Python 3",
   "language": "python",
   "name": "python3"
  },
  "language_info": {
   "codemirror_mode": {
    "name": "ipython",
    "version": 3
   },
   "file_extension": ".py",
   "mimetype": "text/x-python",
   "name": "python",
   "nbconvert_exporter": "python",
   "pygments_lexer": "ipython3",
   "version": "3.7.1"
  }
 },
 "nbformat": 4,
 "nbformat_minor": 2
}
