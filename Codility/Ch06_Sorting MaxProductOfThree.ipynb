{
 "cells": [
  {
   "cell_type": "markdown",
   "metadata": {},
   "source": [
    "## 문제 내용, 정답 확인\n",
    "https://app.codility.com/demo/results/training5XKGW4-6N3/\n"
   ]
  },
  {
   "cell_type": "code",
   "execution_count": 9,
   "metadata": {},
   "outputs": [
    {
     "data": {
      "text/plain": [
       "[(1, 2, 3),\n",
       " (1, 2, 4),\n",
       " (1, 2, 5),\n",
       " (1, 3, 4),\n",
       " (1, 3, 5),\n",
       " (1, 4, 5),\n",
       " (2, 3, 4),\n",
       " (2, 3, 5),\n",
       " (2, 4, 5),\n",
       " (3, 4, 5)]"
      ]
     },
     "execution_count": 9,
     "metadata": {},
     "output_type": "execute_result"
    }
   ],
   "source": [
    "# bad solution -> O(N ** 3)\n",
    "\n",
    "from itertools import combinations\n",
    "\n",
    "def solution(A):\n",
    "    # write your code in Python 3.6\n",
    "    all_comb = list(combinations(A, r=3))\n",
    "    \n",
    "    all_products = []\n",
    "    for comb in all_comb:\n",
    "        temp = list(comb)\n",
    "        all_products.append(temp[0] * temp[1] * temp[2])\n",
    "    \n",
    "    return max(all_products)"
   ]
  },
  {
   "cell_type": "code",
   "execution_count": 12,
   "metadata": {},
   "outputs": [
    {
     "name": "stdout",
     "output_type": "stream",
     "text": [
      "d\n",
      "c\n",
      "b\n",
      "a\n"
     ]
    }
   ],
   "source": [
    "def solution(A):\n",
    "    # write your code in Python 3.6\n",
    "    \n",
    "    A.sort()\n",
    "    \n",
    "    N = len(A) - 1\n",
    "    \n",
    "    answer = A[N] * A[N - 1] * A[N - 2]\n",
    "    \n",
    "    if A[0] <= 0 and A[1] <= 0 and A[N] >= 0:\n",
    "        answer2 = A[0] * A[1] * A[N]\n",
    "        \n",
    "        if answer2 > answer:\n",
    "            answer = answer2\n",
    "            \n",
    "    return answer\n",
    "    "
   ]
  },
  {
   "cell_type": "code",
   "execution_count": null,
   "metadata": {},
   "outputs": [],
   "source": []
  }
 ],
 "metadata": {
  "kernelspec": {
   "display_name": "Python 3",
   "language": "python",
   "name": "python3"
  },
  "language_info": {
   "codemirror_mode": {
    "name": "ipython",
    "version": 3
   },
   "file_extension": ".py",
   "mimetype": "text/x-python",
   "name": "python",
   "nbconvert_exporter": "python",
   "pygments_lexer": "ipython3",
   "version": "3.7.1"
  }
 },
 "nbformat": 4,
 "nbformat_minor": 2
}
