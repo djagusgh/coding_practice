{
 "cells": [
  {
   "cell_type": "markdown",
   "metadata": {},
   "source": [
    "## 문제 내용, 정답 확인\n",
    "\n",
    "https://app.codility.com/demo/results/trainingCZ8AN3-CEC/"
   ]
  },
  {
   "cell_type": "code",
   "execution_count": null,
   "metadata": {},
   "outputs": [],
   "source": [
    "# bad solution -> O(n ** 3)\n",
    "\n",
    "def solution(A):\n",
    "    # write your code in Python 3.6\n",
    "\n",
    "    state = 0\n",
    "    N = len(A)\n",
    "\n",
    "    A.sort()\n",
    "    \n",
    "    for i in range(N - 2):\n",
    "        for j in range(i + 1, N - 1):\n",
    "            for k in range(j + 1 , N):\n",
    "                if A[i] + A[j] > A[k]:\n",
    "                    state = 1\n",
    "                    return state\n",
    "    \n",
    "    return state"
   ]
  },
  {
   "cell_type": "code",
   "execution_count": 1,
   "metadata": {},
   "outputs": [],
   "source": [
    "# good solution -> O(n * logn)\n",
    "def solution(A):\n",
    "    # write your code in Python 3.6\n",
    "    A.sort()\n",
    "    \n",
    "    for i in range(2, len(A)):\n",
    "        # 이렇게만 고려해도 되나 ??\n",
    "        # -> ex) 정렬 후 [1,2,5,8,10,20]\n",
    "        #       -> [2,5,8]은 if 조건 못만족시킴 : [1,5,8]은 당연히 만족 못 시킴\n",
    "        if A[i - 2] + A[i - 1] > A[i]:\n",
    "            return 1\n",
    "    \n",
    "    return 0"
   ]
  },
  {
   "cell_type": "code",
   "execution_count": null,
   "metadata": {},
   "outputs": [],
   "source": []
  }
 ],
 "metadata": {
  "kernelspec": {
   "display_name": "Python 3",
   "language": "python",
   "name": "python3"
  },
  "language_info": {
   "codemirror_mode": {
    "name": "ipython",
    "version": 3
   },
   "file_extension": ".py",
   "mimetype": "text/x-python",
   "name": "python",
   "nbconvert_exporter": "python",
   "pygments_lexer": "ipython3",
   "version": "3.7.1"
  }
 },
 "nbformat": 4,
 "nbformat_minor": 2
}
