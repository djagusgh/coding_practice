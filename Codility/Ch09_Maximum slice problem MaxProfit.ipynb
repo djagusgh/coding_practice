{
 "cells": [
  {
   "cell_type": "markdown",
   "metadata": {},
   "source": [
    "## 문제 내용, 정답 확인\n",
    "\n",
    "https://app.codility.com/demo/results/training3Z3FDX-BDV/"
   ]
  },
  {
   "cell_type": "code",
   "execution_count": 2,
   "metadata": {},
   "outputs": [],
   "source": [
    "# Ch09 pdf자료의 O(n) 방법 활용\n",
    "\n",
    "def solution(A):\n",
    "    # write your code in Python 3.6\n",
    "    n = len(A)\n",
    "    \n",
    "    if A == []:\n",
    "        return 0\n",
    "    \n",
    "    min_val = A[0]\n",
    "    max_profit = A[1] - A[0]\n",
    "    \n",
    "    for i in range(n - 1):\n",
    "        min_val = min(min_val, A[i])\n",
    "        profit = A[i + 1] - min_val\n",
    "        max_profit = max(max_profit, profit)\n",
    "    \n",
    "    if max_profit < 0:\n",
    "        return 0\n",
    "        \n",
    "    return max_profit"
   ]
  },
  {
   "cell_type": "code",
   "execution_count": null,
   "metadata": {},
   "outputs": [],
   "source": []
  }
 ],
 "metadata": {
  "kernelspec": {
   "display_name": "Python 3",
   "language": "python",
   "name": "python3"
  },
  "language_info": {
   "codemirror_mode": {
    "name": "ipython",
    "version": 3
   },
   "file_extension": ".py",
   "mimetype": "text/x-python",
   "name": "python",
   "nbconvert_exporter": "python",
   "pygments_lexer": "ipython3",
   "version": "3.7.1"
  }
 },
 "nbformat": 4,
 "nbformat_minor": 2
}
