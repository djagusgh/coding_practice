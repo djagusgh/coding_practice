{
 "cells": [
  {
   "cell_type": "markdown",
   "metadata": {},
   "source": [
    "## 자료\n",
    "\n",
    "https://codility.com/media/train/5-Stacks.pdf"
   ]
  },
  {
   "cell_type": "markdown",
   "metadata": {},
   "source": [
    "## 7.1 Stack"
   ]
  },
  {
   "cell_type": "code",
   "execution_count": 2,
   "metadata": {},
   "outputs": [],
   "source": [
    "N = 10\n",
    "stack = [0] * N\n",
    "size = 0\n",
    "\n",
    "def push(x):\n",
    "    global size\n",
    "    stack[size] = x\n",
    "    size += 1\n",
    "def pop():\n",
    "    global size\n",
    "    size -= 1\n",
    "    return stack[size]"
   ]
  },
  {
   "cell_type": "markdown",
   "metadata": {},
   "source": [
    "## 7.2 Queue"
   ]
  },
  {
   "cell_type": "code",
   "execution_count": null,
   "metadata": {},
   "outputs": [],
   "source": [
    "# cyclic buffer\n",
    "\n",
    "queue = [0] * N\n",
    "head, tail = 0, 0\n",
    "\n",
    "def push(x):\n",
    "    global tail\n",
    "    tail = (tail + 1) % N\n",
    "    queue[tail] = x\n",
    "\n",
    "def pop():\n",
    "    global head\n",
    "    head = (head + 1) % N\n",
    "    return queue[head]\n",
    "\n",
    "def size():\n",
    "    return (tail - head + N) % N\n",
    "\n",
    "def empty():\n",
    "    return head == tail\n",
    "    \n"
   ]
  },
  {
   "cell_type": "code",
   "execution_count": 3,
   "metadata": {},
   "outputs": [
    {
     "data": {
      "text/plain": [
       "1"
      ]
     },
     "execution_count": 3,
     "metadata": {},
     "output_type": "execute_result"
    }
   ],
   "source": []
  },
  {
   "cell_type": "code",
   "execution_count": null,
   "metadata": {},
   "outputs": [],
   "source": []
  }
 ],
 "metadata": {
  "kernelspec": {
   "display_name": "Python 3",
   "language": "python",
   "name": "python3"
  },
  "language_info": {
   "codemirror_mode": {
    "name": "ipython",
    "version": 3
   },
   "file_extension": ".py",
   "mimetype": "text/x-python",
   "name": "python",
   "nbconvert_exporter": "python",
   "pygments_lexer": "ipython3",
   "version": "3.7.1"
  }
 },
 "nbformat": 4,
 "nbformat_minor": 2
}
