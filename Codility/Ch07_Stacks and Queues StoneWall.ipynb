{
 "cells": [
  {
   "cell_type": "markdown",
   "metadata": {},
   "source": [
    "## 문제 내용, 정답 확인\n",
    "\n",
    "https://app.codility.com/demo/results/trainingAWGJPA-PAB/"
   ]
  },
  {
   "cell_type": "code",
   "execution_count": 2,
   "metadata": {},
   "outputs": [],
   "source": [
    "def solution(H):\n",
    "    # write your code in Python 3.6\n",
    "    \n",
    "    count = 0\n",
    "    stack = []\n",
    "    height = H[0]\n",
    "\n",
    "    # 처음 값 queue에 추가\n",
    "    stack.append(height)\n",
    "    \n",
    "    for i in range(len(H)):\n",
    "        \n",
    "        if H[i] > height:\n",
    "            # 벽 높이 높아질 때 -> stack에 값 push\n",
    "            stack.append(H[i])\n",
    "            \n",
    "        elif H[i] < height:\n",
    "            # 벽 높이가 낮아질 때 -> stack 맨 위 원소가 H[i]보다 작아질 때까지 pop하면서 \n",
    "            # 사각형 갯수가 1개 추가됨!\n",
    "        \n",
    "            while len(stack) > 0 and stack[-1] > H[i]:\n",
    "                stack.pop(-1)\n",
    "                count += 1\n",
    "                \n",
    "            if len(stack) != 0 and stack[-1] != H[i]:\n",
    "                stack.append(H[i])\n",
    "            if len(stack) == 0:\n",
    "                stack.append(H[i])     \n",
    "        \n",
    "        # 마지막에는 stack에 남아있는 높이들 만큼 사각형 갯수가 추가됨\n",
    "        if i == len(H) - 1:\n",
    "            count += len(stack)     \n",
    "        height = H[i]\n",
    "    \n",
    "    return count"
   ]
  },
  {
   "cell_type": "code",
   "execution_count": null,
   "metadata": {},
   "outputs": [],
   "source": []
  }
 ],
 "metadata": {
  "kernelspec": {
   "display_name": "Python 3",
   "language": "python",
   "name": "python3"
  },
  "language_info": {
   "codemirror_mode": {
    "name": "ipython",
    "version": 3
   },
   "file_extension": ".py",
   "mimetype": "text/x-python",
   "name": "python",
   "nbconvert_exporter": "python",
   "pygments_lexer": "ipython3",
   "version": "3.7.1"
  }
 },
 "nbformat": 4,
 "nbformat_minor": 2
}
