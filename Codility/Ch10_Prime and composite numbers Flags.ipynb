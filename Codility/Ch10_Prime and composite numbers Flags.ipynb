{
 "cells": [
  {
   "cell_type": "code",
   "execution_count": null,
   "metadata": {},
   "outputs": [],
   "source": []
  },
  {
   "cell_type": "code",
   "execution_count": null,
   "metadata": {},
   "outputs": [],
   "source": [
    "# 내가 푼 풀이\n",
    "## bad solution\n",
    "def solution(A):\n",
    "    # write your code in Python 3.6\n",
    "    \n",
    "    peaks_idx = [i for i in range(1, len(A) - 1) if A[i] > A[i - 1] and A[i] > A[i + 1]]\n",
    "    N = len(peaks_idx)\n",
    "    \n",
    "    if N == 0: return 0\n",
    "    if N == 1: return 1\n",
    "    \n",
    "    k = 2 \n",
    "    answer = 1\n",
    "    \n",
    "    while k <= N:\n",
    "        \n",
    "        temp = [peaks_idx[0]]\n",
    "        m = k\n",
    "        \n",
    "        for j in range(1, N):\n",
    "            \n",
    "            temp.append(peaks_idx[j])\n",
    "            if temp[1] - temp[0] >= k:\n",
    "                temp.pop(0)\n",
    "                m -= 1\n",
    "            else:\n",
    "                temp.pop(-1)\n",
    "                \n",
    "            if m == 1:\n",
    "                answer = k\n",
    "        \n",
    "        if answer != k:\n",
    "            return answer\n",
    "        \n",
    "        k += 1\n",
    "            \n",
    "    return answer"
   ]
  },
  {
   "cell_type": "markdown",
   "metadata": {},
   "source": [
    "### Fast Solution ~ O(NlogN)  --> ?? 이해 불가\n",
    "\n",
    "<br>\n",
    "> bisection 사용\n",
    "<br>\n",
    "- 1) x개의 flags를 세울 수 있으면, x-1, x-2, ..., 1 개의 flag를 세울 수 있음\n",
    "<br>\n",
    "- 2) x개의 flags를 세울 수 없다면 x+1, x+2 , ... N**0.5 개의 flag도 세울 수 없음\n",
    "\n",
    "<br>\n",
    "\n",
    "- x개의 flags 세울 수 있는지 확인 후, 있으면 1)의 구간에서, 없으면 2)의 구간에서 다시 탐색\n",
    " 반복"
   ]
  },
  {
   "cell_type": "code",
   "execution_count": 1,
   "metadata": {},
   "outputs": [],
   "source": [
    "# 1. Create and array of peaks\n",
    "\n",
    "def create_peaks(A):\n",
    "    N = len(A)\n",
    "    peaks = [False] * N\n",
    "    for i in range(1, N-1):\n",
    "        if A[i] > max(A[i - 1], A[i + 1]):\n",
    "            peaks[i] = True\n",
    "    return peaks"
   ]
  },
  {
   "cell_type": "code",
   "execution_count": 6,
   "metadata": {},
   "outputs": [],
   "source": [
    "def check(x, A):\n",
    "    N = len(A)\n",
    "    peaks = create_peaks(A)\n",
    "    flags = x\n",
    "    pos = 0\n",
    "    while pos < N and flags > 0:\n",
    "        if peaks[pos]:\n",
    "            flags -= 1\n",
    "            pos += x\n",
    "        else:\n",
    "            pos += 1\n",
    "    return flags == 0"
   ]
  },
  {
   "cell_type": "code",
   "execution_count": 7,
   "metadata": {},
   "outputs": [],
   "source": [
    "ex = [1, 5, 3, 4, 3, 4, 1, 2, 3, 4, 6, 2]"
   ]
  },
  {
   "cell_type": "markdown",
   "metadata": {},
   "source": [
    "## Golden Solution ~ O(N)\n",
    "<br>\n",
    "\n",
    "### 1) Next peak\n",
    "\n",
    "<br>\n",
    "1) 모든 peaks에 마킹함\n",
    "<br>\n",
    "2) 배열을 탐색하면서 모든 index i의 경우에서, i보다 큰 index들 중 최초의 peak를 찾는다\n",
    "--> 배열을 역순으로 돌면서 최초의 peak을 기억해노는다\n",
    "\n",
    "\n"
   ]
  },
  {
   "cell_type": "code",
   "execution_count": 15,
   "metadata": {},
   "outputs": [],
   "source": [
    "def next_peak(A):\n",
    "    N = len(A)\n",
    "    peaks = create_peaks(A)\n",
    "    nexts = [0] * N\n",
    "    nexts[N - 1] = -1\n",
    "    for i in range(N - 2, -1 , -1):\n",
    "        if peaks[i]:\n",
    "            nexts[i] = i\n",
    "        else:\n",
    "            nexts[i] = nexts[i + 1]\n",
    "    return nexts"
   ]
  },
  {
   "cell_type": "markdown",
   "metadata": {},
   "source": [
    "i 개의 flags를 꽂는 경우, 만약 pos 위치에 flag를 꽂았다면, 다음 flag는 pos + i 보다 큰 위치들에만 꽂을 수 있다.\n",
    "\n",
    "Let us assume that we have taken i flags. Notice that if we set a flag at position pos then the\n",
    "next flag can only be set in positions ­ pos + i. The position can be found in a constant time\n",
    "(from array next).\n",
    "\n",
    "Notice that for every index i we cannot take more than i flags and set more than N\n",
    "i + 1 flags.\n",
    "We can take a maximum of O(\n",
    "√\n",
    "N) flags, and the position of each of them can be found in\n",
    "a constant time, so the total number of operations does not exceed O(N + 1+ 2+. . .+\n",
    "√\n",
    "N) =\n",
    "O(N +\n",
    "√\n",
    "N\n",
    "2\n",
    ") = O(N)."
   ]
  },
  {
   "cell_type": "code",
   "execution_count": 16,
   "metadata": {},
   "outputs": [],
   "source": [
    "def flags(A):\n",
    "    N = len(A)\n",
    "    nexts = next_peak(A)\n",
    "    i = 1\n",
    "    result = 0\n",
    "    while (i - 1) * i <= N:\n",
    "        pos = 0\n",
    "        num = 0\n",
    "        while pos < N and num < i:\n",
    "            pos = nexts[pos]\n",
    "            if pos == -1:\n",
    "                break\n",
    "            num += 1\n",
    "            pos += i\n",
    "        result = max(result, num)\n",
    "        i += 1\n",
    "    \n",
    "    return result"
   ]
  },
  {
   "cell_type": "code",
   "execution_count": 17,
   "metadata": {},
   "outputs": [
    {
     "data": {
      "text/plain": [
       "3"
      ]
     },
     "execution_count": 17,
     "metadata": {},
     "output_type": "execute_result"
    }
   ],
   "source": [
    "flags(ex)"
   ]
  },
  {
   "cell_type": "code",
   "execution_count": null,
   "metadata": {},
   "outputs": [],
   "source": []
  }
 ],
 "metadata": {
  "kernelspec": {
   "display_name": "Python 3",
   "language": "python",
   "name": "python3"
  },
  "language_info": {
   "codemirror_mode": {
    "name": "ipython",
    "version": 3
   },
   "file_extension": ".py",
   "mimetype": "text/x-python",
   "name": "python",
   "nbconvert_exporter": "python",
   "pygments_lexer": "ipython3",
   "version": "3.7.1"
  }
 },
 "nbformat": 4,
 "nbformat_minor": 2
}
