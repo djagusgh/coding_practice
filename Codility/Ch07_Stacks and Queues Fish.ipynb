{
 "cells": [
  {
   "cell_type": "markdown",
   "metadata": {},
   "source": [
    "## 문제 내용, 정답 확인\n",
    "https://app.codility.com/demo/results/trainingAVJHPW-VHJ/"
   ]
  },
  {
   "cell_type": "code",
   "execution_count": null,
   "metadata": {},
   "outputs": [],
   "source": [
    "def solution(A, B):\n",
    "    # write your code in Python 3.6\n",
    "    \n",
    "    answer = len(A)\n",
    "    stack = []\n",
    "    \n",
    "    for i in range(len(A)):\n",
    "        \n",
    "        if B[i] == 1:\n",
    "            stack.append(A[i])\n",
    "        \n",
    "        elif len(stack) != 0 and stack[-1] < A[i]:\n",
    "            \n",
    "            while len(stack) != 0 and stack[-1] < A[i]:\n",
    "                stack.pop(-1)\n",
    "                answer -= 1\n",
    "            \n",
    "            if len(stack) != 0 and stack[-1] > A[i]:\n",
    "                answer -= 1\n",
    "            \n",
    "        elif len(stack) != 0 and stack[-1] > A[i]:\n",
    "            answer -= 1\n",
    "            \n",
    "    return answer"
   ]
  }
 ],
 "metadata": {
  "kernelspec": {
   "display_name": "Python 3",
   "language": "python",
   "name": "python3"
  },
  "language_info": {
   "codemirror_mode": {
    "name": "ipython",
    "version": 3
   },
   "file_extension": ".py",
   "mimetype": "text/x-python",
   "name": "python",
   "nbconvert_exporter": "python",
   "pygments_lexer": "ipython3",
   "version": "3.7.1"
  }
 },
 "nbformat": 4,
 "nbformat_minor": 2
}
