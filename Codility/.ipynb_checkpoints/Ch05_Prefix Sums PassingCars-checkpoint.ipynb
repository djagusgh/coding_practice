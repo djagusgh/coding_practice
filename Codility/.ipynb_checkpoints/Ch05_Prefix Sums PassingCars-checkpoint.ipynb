{
 "cells": [
  {
   "cell_type": "markdown",
   "metadata": {},
   "source": [
    "## 문제 내용, 정답 확인\n",
    "https://app.codility.com/demo/results/training89BKZ9-7ED/"
   ]
  },
  {
   "cell_type": "code",
   "execution_count": null,
   "metadata": {},
   "outputs": [],
   "source": [
    "# sum함수는 반복문 밖에서 한번만 하자!\n",
    "\n",
    "def solution(A):\n",
    "    # write your code in Python 3.6\n",
    "    \n",
    "    count = 0\n",
    "    \n",
    "    total_sum = sum(A)\n",
    "\n",
    "    for i in range(len(A)):\n",
    "        \n",
    "        if A[i] == 0:\n",
    "            count += total_sum\n",
    "        else:\n",
    "            total_sum -= 1\n",
    "        \n",
    "    if count > 1000000000:\n",
    "        count = -1\n",
    "\n",
    "        \n",
    "    return count"
   ]
  }
 ],
 "metadata": {
  "kernelspec": {
   "display_name": "Python 3",
   "language": "python",
   "name": "python3"
  },
  "language_info": {
   "codemirror_mode": {
    "name": "ipython",
    "version": 3
   },
   "file_extension": ".py",
   "mimetype": "text/x-python",
   "name": "python",
   "nbconvert_exporter": "python",
   "pygments_lexer": "ipython3",
   "version": "3.7.1"
  }
 },
 "nbformat": 4,
 "nbformat_minor": 2
}
