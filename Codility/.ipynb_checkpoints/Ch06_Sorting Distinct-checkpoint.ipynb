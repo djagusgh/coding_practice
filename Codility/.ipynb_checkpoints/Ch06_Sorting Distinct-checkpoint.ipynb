{
 "cells": [
  {
   "cell_type": "markdown",
   "metadata": {},
   "source": [
    "## 문제 내용, 정답 확인\n",
    "https://app.codility.com/demo/results/trainingAKRMXM-CR9/"
   ]
  },
  {
   "cell_type": "code",
   "execution_count": null,
   "metadata": {},
   "outputs": [],
   "source": [
    "# Solution 1\n",
    "def solution(A):\n",
    "    # write your code in Python 3.6\n",
    "\n",
    "    n = len(A)\n",
    "    if n == 0:\n",
    "        return 0\n",
    "    \n",
    "    A.sort()\n",
    "    result = 1\n",
    "    \n",
    "    for i in range(1, n):\n",
    "        if A[i] != A[i - 1]:\n",
    "            result += 1\n",
    "            \n",
    "    return result"
   ]
  },
  {
   "cell_type": "code",
   "execution_count": null,
   "metadata": {},
   "outputs": [],
   "source": [
    "# Solution 2\n",
    "\n",
    "def solution(A):\n",
    "    # write your code in Python 3.6\n",
    "    A = set(A)\n",
    "    return len(A)"
   ]
  }
 ],
 "metadata": {
  "kernelspec": {
   "display_name": "Python 3",
   "language": "python",
   "name": "python3"
  },
  "language_info": {
   "codemirror_mode": {
    "name": "ipython",
    "version": 3
   },
   "file_extension": ".py",
   "mimetype": "text/x-python",
   "name": "python",
   "nbconvert_exporter": "python",
   "pygments_lexer": "ipython3",
   "version": "3.7.1"
  }
 },
 "nbformat": 4,
 "nbformat_minor": 2
}
