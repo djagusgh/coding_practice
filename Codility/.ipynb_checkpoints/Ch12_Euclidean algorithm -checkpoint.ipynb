{
 "cells": [
  {
   "cell_type": "markdown",
   "metadata": {},
   "source": [
    "https://codility.com/media/train/10-Gcd.pdf\n",
    "\n",
    "### 두 양의 정수 사이의 최대 공약수를 구하는 문제"
   ]
  },
  {
   "cell_type": "markdown",
   "metadata": {},
   "source": [
    "#### 12.1 Euclidean algorithm by subtraction"
   ]
  },
  {
   "cell_type": "code",
   "execution_count": 1,
   "metadata": {},
   "outputs": [],
   "source": [
    "# O(n = a+ b)\n",
    "\n",
    "def gcd(a, b):\n",
    "    if a == b:\n",
    "        return a\n",
    "    if a > b:\n",
    "        gcd(a - b, b)\n",
    "    else:\n",
    "        gcd(a, b - a)"
   ]
  },
  {
   "cell_type": "markdown",
   "metadata": {},
   "source": [
    "#### 12.2 Euclidean algorithm by division"
   ]
  },
  {
   "cell_type": "code",
   "execution_count": 2,
   "metadata": {},
   "outputs": [],
   "source": [
    "# O(log(a + b))\n",
    "\n",
    "def gcd(a, b):\n",
    "    if a % b == 0:\n",
    "        return b\n",
    "    else:\n",
    "        return gcd(b, a % b)"
   ]
  },
  {
   "cell_type": "markdown",
   "metadata": {},
   "source": [
    "#### 12.3 Binary Euclidean algorithm"
   ]
  },
  {
   "cell_type": "code",
   "execution_count": null,
   "metadata": {},
   "outputs": [],
   "source": [
    "def gcd(a, b, res):\n",
    "    if a == b:\n",
    "        return res * a\n",
    "    elif (a % 2 == 0) and (b % 2 == 0):\n",
    "        return gcd(a // 2, b // 2, 2 * res)\n",
    "    elif (a % 2 == 0):\n",
    "        return gcd(a // 2, b, res)\n",
    "    elif (b % 2 == 0):\n",
    "        return gcd(a, b // 2, res)\n",
    "    elif a > b:\n",
    "        return gcd(a - b, b, res)\n",
    "    else:\n",
    "        return gcd(a, b - a, res)"
   ]
  }
 ],
 "metadata": {
  "kernelspec": {
   "display_name": "Python 3",
   "language": "python",
   "name": "python3"
  },
  "language_info": {
   "codemirror_mode": {
    "name": "ipython",
    "version": 3
   },
   "file_extension": ".py",
   "mimetype": "text/x-python",
   "name": "python",
   "nbconvert_exporter": "python",
   "pygments_lexer": "ipython3",
   "version": "3.7.1"
  }
 },
 "nbformat": 4,
 "nbformat_minor": 2
}
