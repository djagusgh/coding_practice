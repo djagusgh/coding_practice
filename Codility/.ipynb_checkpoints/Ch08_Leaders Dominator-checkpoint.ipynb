{
 "cells": [
  {
   "cell_type": "markdown",
   "metadata": {},
   "source": [
    "## 문제 내용, 정답 확인\n",
    "https://app.codility.com/demo/results/trainingFJW956-PDU/"
   ]
  },
  {
   "cell_type": "code",
   "execution_count": 1,
   "metadata": {},
   "outputs": [],
   "source": [
    "## Ch08 Leaders pdf와 같은 문제\n",
    "## pdf(stack size와 마지막 값만 고려함)와 다르게 stack을 직접 만들어 활용\n",
    "\n",
    "def solution(A):\n",
    "    \n",
    "    N = len(A)\n",
    "    stack = []\n",
    "    \n",
    "    for i in range(N):\n",
    "        \n",
    "        if len(stack) == 0:\n",
    "            stack.append(A[i])\n",
    "        else:\n",
    "            if stack[-1] != A[i]:\n",
    "                stack.pop(-1)\n",
    "            else:\n",
    "                stack.append(A[i])\n",
    "    \n",
    "    candidate = -1\n",
    "    leader = -1\n",
    "    \n",
    "    if len(stack) >= 1:\n",
    "        candidate = stack[-1]\n",
    "        \n",
    "    count = 0\n",
    "    # 사용한 stack은 버리자\n",
    "    del stack\n",
    "        \n",
    "    for each in A:\n",
    "        if each == candidate:\n",
    "            count += 1\n",
    "    \n",
    "    if count > N // 2:\n",
    "        leader = candidate\n",
    "        \n",
    "    if leader == -1:\n",
    "        return -1\n",
    "        \n",
    "    return A.index(leader)\n",
    "    "
   ]
  },
  {
   "cell_type": "code",
   "execution_count": null,
   "metadata": {},
   "outputs": [],
   "source": []
  }
 ],
 "metadata": {
  "kernelspec": {
   "display_name": "Python 3",
   "language": "python",
   "name": "python3"
  },
  "language_info": {
   "codemirror_mode": {
    "name": "ipython",
    "version": 3
   },
   "file_extension": ".py",
   "mimetype": "text/x-python",
   "name": "python",
   "nbconvert_exporter": "python",
   "pygments_lexer": "ipython3",
   "version": "3.7.1"
  }
 },
 "nbformat": 4,
 "nbformat_minor": 2
}
