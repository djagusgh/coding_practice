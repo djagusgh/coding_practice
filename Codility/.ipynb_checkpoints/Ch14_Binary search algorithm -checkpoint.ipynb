{
 "cells": [
  {
   "cell_type": "code",
   "execution_count": 1,
   "metadata": {},
   "outputs": [],
   "source": [
    "def binarySearch(A, x):\n",
    "    n = len(A)\n",
    "    beg = 0\n",
    "    end = n - 1\n",
    "    result = -1\n",
    "    while beg <= end:\n",
    "        mid = (beg + end) // 2\n",
    "        if A[mid] <= x:\n",
    "            beg = mid + 1\n",
    "            result = mid\n",
    "        else:\n",
    "            end = mid - 1\n",
    "    return result"
   ]
  },
  {
   "cell_type": "markdown",
   "metadata": {},
   "source": [
    "## Exercise"
   ]
  },
  {
   "cell_type": "markdown",
   "metadata": {},
   "source": [
    "Problem: You are given n binary values x0, x1, . . . , xn−1, such that xi ∈ {0, 1}. This array\n",
    "represents holes in a roof (1 is a hole). You are also given k boards of the same size. The goal\n",
    "is to choose the optimal (minimal) size of the boards that allows all the holes to be covered\n",
    "by boards.\n",
    "\n",
    "<br>\n",
    "\n",
    "Solution: The size of the boards can be found with a binary search. If size x is sufficient to\n",
    "cover all the holes, then we know that sizes x+ 1, x+ 2, . . . , n are also sufficient. On the other\n",
    "hand, if we know that x is not sufficient to cover all the holes, then sizes x − 1, x − 2, . . . , 1\n",
    "are also insufficient"
   ]
  },
  {
   "cell_type": "code",
   "execution_count": 4,
   "metadata": {},
   "outputs": [],
   "source": [
    "# Binary search in O(log n)\n",
    "def boards(A, k):\n",
    "    n = len(A)\n",
    "    beg = 1\n",
    "    end = n\n",
    "    result = -1\n",
    "    while beg <= end:\n",
    "        mid = (beg + end) // 2\n",
    "        if check(A, mid) <= k:\n",
    "            end = mid - 1\n",
    "            result = mid\n",
    "        else:\n",
    "            beg = mid + 1\n",
    "    return result"
   ]
  },
  {
   "cell_type": "markdown",
   "metadata": {},
   "source": [
    "There is the question of how to check whether size x is sufficient. We can go through all the\n",
    "indices from the left to the right and greedily count the boards. We add a new board only if\n",
    "there is a hole that is not covered by the last board."
   ]
  },
  {
   "cell_type": "code",
   "execution_count": 3,
   "metadata": {},
   "outputs": [],
   "source": [
    "def check(A, k):\n",
    "    n = len(A)\n",
    "    boards = 0\n",
    "    last = -1\n",
    "    for i in range(n):\n",
    "        if A[i] == i and last < i:\n",
    "            boards += 1\n",
    "            last = i + k - 1\n",
    "    return boards"
   ]
  },
  {
   "cell_type": "code",
   "execution_count": null,
   "metadata": {},
   "outputs": [],
   "source": []
  }
 ],
 "metadata": {
  "kernelspec": {
   "display_name": "Python 3",
   "language": "python",
   "name": "python3"
  },
  "language_info": {
   "codemirror_mode": {
    "name": "ipython",
    "version": 3
   },
   "file_extension": ".py",
   "mimetype": "text/x-python",
   "name": "python",
   "nbconvert_exporter": "python",
   "pygments_lexer": "ipython3",
   "version": "3.7.1"
  }
 },
 "nbformat": 4,
 "nbformat_minor": 2
}
