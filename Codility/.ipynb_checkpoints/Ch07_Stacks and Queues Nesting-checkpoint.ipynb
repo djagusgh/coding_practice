{
 "cells": [
  {
   "cell_type": "markdown",
   "metadata": {},
   "source": [
    "## 문제 내용, 정답 확인\n",
    "\n",
    "https://app.codility.com/demo/results/training2KU8K9-Z88/"
   ]
  },
  {
   "cell_type": "code",
   "execution_count": 2,
   "metadata": {},
   "outputs": [],
   "source": [
    "def solution(S):\n",
    "    # write your code in Python 3.6\n",
    "    \n",
    "    if len(S) == 0:\n",
    "        return 1\n",
    "    \n",
    "    stack = []\n",
    "    \n",
    "    for each in S:\n",
    "        if each == '(':\n",
    "            stack.append(each)\n",
    "        elif each == ')' and len(stack) == 0:\n",
    "            return 0\n",
    "        elif each == ')' and len(stack) != 0:\n",
    "            if stack[-1] == '(':\n",
    "                stack.pop(-1)\n",
    "            else:\n",
    "                return 0\n",
    "    \n",
    "    if len(stack) == 0:\n",
    "        return 1\n",
    "    else:\n",
    "        return 0\n",
    " "
   ]
  },
  {
   "cell_type": "code",
   "execution_count": null,
   "metadata": {},
   "outputs": [],
   "source": []
  }
 ],
 "metadata": {
  "kernelspec": {
   "display_name": "Python 3",
   "language": "python",
   "name": "python3"
  },
  "language_info": {
   "codemirror_mode": {
    "name": "ipython",
    "version": 3
   },
   "file_extension": ".py",
   "mimetype": "text/x-python",
   "name": "python",
   "nbconvert_exporter": "python",
   "pygments_lexer": "ipython3",
   "version": "3.7.1"
  }
 },
 "nbformat": 4,
 "nbformat_minor": 2
}
