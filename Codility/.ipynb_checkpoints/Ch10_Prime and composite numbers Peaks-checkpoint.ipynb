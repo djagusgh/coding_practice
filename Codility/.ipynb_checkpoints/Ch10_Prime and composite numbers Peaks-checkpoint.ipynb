{
 "cells": [
  {
   "cell_type": "markdown",
   "metadata": {},
   "source": [
    "## 문제 내용, 정답 확인\n",
    "\n",
    "https://app.codility.com/demo/results/training8Y8C28-JFW/"
   ]
  },
  {
   "cell_type": "code",
   "execution_count": 3,
   "metadata": {},
   "outputs": [],
   "source": [
    "def solution(A):\n",
    "    \n",
    "    N = len(A)\n",
    " \n",
    "    # peak의 위치를 모두 찾기\n",
    "    \n",
    "    peaks = []\n",
    "    for i in range(1, N - 1):\n",
    "        if A[i] > A[i - 1] and A[i] > A[i + 1]:\n",
    "            peaks.append(i)\n",
    "    \n",
    "    if len(peaks) == 0:\n",
    "        return 0\n",
    "    \n",
    "    # peak 갯수보다 더 많이 쪼개면 peak 포함x 경우가 무조건 생김   \n",
    "    divides = [i for i in range(1, len(peaks) + 1) if N % i == 0]\n",
    " \n",
    "    answer = 1\n",
    "    \n",
    "    for idx, val in enumerate(divides):\n",
    "        each_length = N // val\n",
    "        # 각 peak의 위치를 각 slice의 길이로 나눴을 때 몫이 slice의 갯수가 되어야 조건을 만족시킴\n",
    "        temp = set([peak // each_length for peak in peaks])\n",
    "        if len(temp) == val:\n",
    "            answer = divides[idx]\n",
    "    \n",
    "    return answer\n",
    "    "
   ]
  },
  {
   "cell_type": "code",
   "execution_count": 2,
   "metadata": {},
   "outputs": [
    {
     "data": {
      "text/plain": [
       "2"
      ]
     },
     "execution_count": 2,
     "metadata": {},
     "output_type": "execute_result"
    }
   ],
   "source": []
  },
  {
   "cell_type": "code",
   "execution_count": null,
   "metadata": {},
   "outputs": [],
   "source": []
  }
 ],
 "metadata": {
  "kernelspec": {
   "display_name": "Python 3",
   "language": "python",
   "name": "python3"
  },
  "language_info": {
   "codemirror_mode": {
    "name": "ipython",
    "version": 3
   },
   "file_extension": ".py",
   "mimetype": "text/x-python",
   "name": "python",
   "nbconvert_exporter": "python",
   "pygments_lexer": "ipython3",
   "version": "3.7.1"
  }
 },
 "nbformat": 4,
 "nbformat_minor": 2
}
