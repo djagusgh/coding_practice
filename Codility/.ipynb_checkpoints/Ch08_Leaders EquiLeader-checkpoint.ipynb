{
 "cells": [
  {
   "cell_type": "markdown",
   "metadata": {},
   "source": [
    "## 문제 내용, 정답 확인\n",
    "\n",
    "https://app.codility.com/demo/results/trainingZ6K2TG-H3B/"
   ]
  },
  {
   "cell_type": "code",
   "execution_count": null,
   "metadata": {},
   "outputs": [],
   "source": [
    "# you can write to stdout for debugging purposes, e.g.\n",
    "# print(\"this is a debug message\")\n",
    "\n",
    "# dictionary 사용\n",
    "\n",
    "def solution(A):\n",
    "    \n",
    "    lDic = {}\n",
    "    rDic = {}\n",
    "    \n",
    "    # lDic , rDic 초기화\n",
    "    lDic[A[0]] = 1\n",
    "    \n",
    "    for each in A[1:]:\n",
    "        if each in rDic:\n",
    "            rDic[each] += 1\n",
    "        else:\n",
    "            rDic[each] = 1\n",
    "    \n",
    "    leader = 0\n",
    "    lmax = A[0]\n",
    "    \n",
    "    for i in range(1, len(A)):\n",
    "        if lDic[lmax] > i / 2 and lmax in rDic and rDic[lmax] > (len(A) - i) / 2:\n",
    "            leader += 1\n",
    "        # 원소 이동에 따라 lmax가 변할 수 있다!\n",
    "        elif lDic[A[i-1]] > i/2 and A[i-1] in rDic and rDic[A[i-1]] > (len(A) - i) / 2:\n",
    "            leader += 1\n",
    "            lmax = A[i-1]\n",
    "            \n",
    "        rDic[A[i]] -= 1\n",
    "        \n",
    "        if A[i] in lDic:\n",
    "            lDic[A[i]] += 1\n",
    "        else:\n",
    "            lDic[A[i]] = 1\n",
    "    return leader"
   ]
  }
 ],
 "metadata": {
  "kernelspec": {
   "display_name": "Python 3",
   "language": "python",
   "name": "python3"
  },
  "language_info": {
   "codemirror_mode": {
    "name": "ipython",
    "version": 3
   },
   "file_extension": ".py",
   "mimetype": "text/x-python",
   "name": "python",
   "nbconvert_exporter": "python",
   "pygments_lexer": "ipython3",
   "version": "3.7.1"
  }
 },
 "nbformat": 4,
 "nbformat_minor": 2
}
