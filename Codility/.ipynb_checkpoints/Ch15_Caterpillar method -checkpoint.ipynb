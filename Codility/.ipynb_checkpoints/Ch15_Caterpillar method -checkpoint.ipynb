{
 "cells": [
  {
   "cell_type": "markdown",
   "metadata": {},
   "source": [
    "https://codility.com/media/train/13-CaterpillarMethod.pdf"
   ]
  },
  {
   "cell_type": "markdown",
   "metadata": {},
   "source": [
    "The Caterpillar method is a likeable name for a popular means of solving algorithmic tasks.\n",
    "The idea is to check elements in a way that’s reminiscent of movements of a caterpillar.\n",
    "The caterpillar crawls through the array. We remember the front and back positions of the\n",
    "caterpillar, and at every step either of them is moved forward."
   ]
  },
  {
   "cell_type": "markdown",
   "metadata": {},
   "source": [
    "## 15.1 Usage example"
   ]
  },
  {
   "cell_type": "markdown",
   "metadata": {},
   "source": [
    "Let’s check whether a sequence a0, a1,...,an≠1 (1 ˛ ai ˛ 109) contains a contiguous subsequence whose sum of elements equals s. For example, in the following sequence we are looking\n",
    "for a subsequence whose total equals s = 12.\n",
    "a0 a1 a2 a3 a4 a5 a6\n",
    "6 2 7 4 1 3 6\n",
    "Each position of the caterpillar will represent a dierent contiguous subsequence in which\n",
    "the total of the elements is not greater than s. Let’s initially set the caterpillar on the first\n",
    "element. Next we will perform the following steps:\n",
    "• if we can, we move the right end (front) forward and increase the size of the caterpillar;\n",
    "• otherwise, we move the left end (back) forward and decrease the size of the caterpillar.\n",
    "In this way, for every position of the left end we know the longest caterpillar that covers\n",
    "elements whose total is not greater than s. If there is a subsequence whose total of elements\n",
    "equals s, then there certainly is a moment when the caterpillar covers all its elements"
   ]
  },
  {
   "cell_type": "code",
   "execution_count": 2,
   "metadata": {},
   "outputs": [],
   "source": [
    "# O(n)\n",
    "\n",
    "def caterpillarMethod(A, s):\n",
    "    n = len(A)\n",
    "    front, total = 0, 0\n",
    "    for back in range(n):\n",
    "        while front < n and total + A[front] <= s:\n",
    "            total += A[front]\n",
    "            front += 1\n",
    "        if total == s:\n",
    "            return True\n",
    "        total -= A[back]\n",
    "    return False\n",
    "        "
   ]
  },
  {
   "cell_type": "markdown",
   "metadata": {},
   "source": [
    "### 15.2. Exercise\n",
    "\n",
    "<br>\n",
    "\n",
    "<b> Problem </b>: You are given n sticks (of lengths 1 ˛ a0 ˛ a1 ˛ ... ˛ an≠1 ˛ 109). The goal is\n",
    "to count the number of triangles that can be constructed using these sticks. More precisely,\n",
    "we have to count the number of triplets at indices x<y<z, such that ax + ay > az|"
   ]
  },
  {
   "cell_type": "markdown",
   "metadata": {},
   "source": [
    "<b> Solution </b> O(n2): For every pair x, y we can find the largest stick z that can be used to\n",
    "construct the triangle. Every stick k, such that y<k ˛ z, can also be used, because the\n",
    "condition ax + ay > ak will still be true. We can add up all these triangles at once.\n",
    "If the value z is found every time from the beginning then we get a O(n3) time complexity\n",
    "solution. However, we can instead use the caterpillar method. When increasing the value of\n",
    "y, we can increase (as far as possible) the value of z."
   ]
  },
  {
   "cell_type": "code",
   "execution_count": 3,
   "metadata": {},
   "outputs": [],
   "source": [
    "# 15.2 The number of triangles in O(n**2)\n",
    "\n",
    "def triangles(A):\n",
    "    n = len(A)\n",
    "    result = 0\n",
    "    for x in range(n):\n",
    "        z = x + 2\n",
    "    "
   ]
  },
  {
   "cell_type": "code",
   "execution_count": null,
   "metadata": {},
   "outputs": [],
   "source": []
  }
 ],
 "metadata": {
  "kernelspec": {
   "display_name": "Python 3",
   "language": "python",
   "name": "python3"
  },
  "language_info": {
   "codemirror_mode": {
    "name": "ipython",
    "version": 3
   },
   "file_extension": ".py",
   "mimetype": "text/x-python",
   "name": "python",
   "nbconvert_exporter": "python",
   "pygments_lexer": "ipython3",
   "version": "3.7.1"
  }
 },
 "nbformat": 4,
 "nbformat_minor": 2
}
