{
 "cells": [
  {
   "cell_type": "code",
   "execution_count": null,
   "metadata": {},
   "outputs": [],
   "source": [
    "# 문제 내용, 정답 확인\n",
    "#https://app.codility.com/programmers/lessons/4-counting_elements/max_counters/"
   ]
  },
  {
   "cell_type": "code",
   "execution_count": null,
   "metadata": {},
   "outputs": [],
   "source": [
    "# bad solution O(M * N)\n",
    "\n",
    "def solution(N, A):\n",
    "    \n",
    "    answer = [0] * N\n",
    "    \n",
    "    for val in A:\n",
    "        if val < N + 1:\n",
    "            answer[val - 1] += 1\n",
    "        else:\n",
    "            # else 문 들어갈 때마다 max 계산됨 -> 비효율\n",
    "            answer = [max(answer)] * N \n",
    "\n"
   ]
  },
  {
   "cell_type": "code",
   "execution_count": null,
   "metadata": {},
   "outputs": [],
   "source": [
    "# better solution O(M + N)\n",
    "\n",
    "def solution(N, A):\n",
    "    \n",
    "    answer = [0] * N\n",
    "    \n",
    "    max_val = 0\n",
    "    last_update = 0\n",
    "    \n",
    "    for val in A:\n",
    "        \n",
    "        if val < N + 1:\n",
    "            if answer[val - 1] < last_update:\n",
    "                answer[val - 1] = last_update\n",
    "            \n",
    "            answer[val - 1] += 1\n",
    "            \n",
    "            if answer[val - 1] > max_val:\n",
    "                max_val = answer[val - 1]\n",
    "        \n",
    "        else:\n",
    "            last_update = max_val\n",
    "    \n",
    "    for i in range(len(answer)):\n",
    "        if answer[i] < last_update:\n",
    "            answer[i] = last_update\n",
    "            \n",
    "    return answer"
   ]
  }
 ],
 "metadata": {
  "kernelspec": {
   "display_name": "Python 3",
   "language": "python",
   "name": "python3"
  },
  "language_info": {
   "codemirror_mode": {
    "name": "ipython",
    "version": 3
   },
   "file_extension": ".py",
   "mimetype": "text/x-python",
   "name": "python",
   "nbconvert_exporter": "python",
   "pygments_lexer": "ipython3",
   "version": "3.7.1"
  }
 },
 "nbformat": 4,
 "nbformat_minor": 2
}
