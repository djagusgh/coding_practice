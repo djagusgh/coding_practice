{
 "cells": [
  {
   "cell_type": "markdown",
   "metadata": {},
   "source": [
    "## 문제 내용, 정답 확인\n",
    "\n",
    "https://app.codility.com/demo/results/trainingPBV5VA-DKQ/"
   ]
  },
  {
   "cell_type": "code",
   "execution_count": null,
   "metadata": {},
   "outputs": [],
   "source": [
    "\n",
    "def solution(N):\n",
    "    # write your code in Python 3.6\n",
    "    \n",
    "    # 2진수로 변환해 리스트에 담음\n",
    "    mod_list = []\n",
    "    \n",
    "    stack = [0]\n",
    "    \n",
    "    while N > 1:\n",
    "        mod_list.insert(0, N % 2)\n",
    "        N = N // 2\n",
    "    \n",
    "    mod_list.insert(0, 1)\n",
    "    \n",
    "    j = 0\n",
    "    for i in range(1, len(mod_list)):\n",
    "        if mod_list[i] == 0:\n",
    "            if i == len(mod_list) - 1:\n",
    "                stack.pop(-1)\n",
    "            else:\n",
    "                stack[j] += 1\n",
    "        else:\n",
    "            j += 1\n",
    "            stack.append(0)\n",
    "            \n",
    "    if sum(mod_list) == 1:\n",
    "        return 0\n",
    "    else:\n",
    "        return max(stack)"
   ]
  }
 ],
 "metadata": {
  "kernelspec": {
   "display_name": "Python 3",
   "language": "python",
   "name": "python3"
  },
  "language_info": {
   "codemirror_mode": {
    "name": "ipython",
    "version": 3
   },
   "file_extension": ".py",
   "mimetype": "text/x-python",
   "name": "python",
   "nbconvert_exporter": "python",
   "pygments_lexer": "ipython3",
   "version": "3.7.1"
  }
 },
 "nbformat": 4,
 "nbformat_minor": 2
}
