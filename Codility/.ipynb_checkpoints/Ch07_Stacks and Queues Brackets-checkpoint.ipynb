{
 "cells": [
  {
   "cell_type": "markdown",
   "metadata": {},
   "source": [
    "## 문제 내용, 정답 확인\n",
    "https://app.codility.com/demo/results/trainingXVDFNZ-KPU/"
   ]
  },
  {
   "cell_type": "code",
   "execution_count": null,
   "metadata": {},
   "outputs": [],
   "source": [
    "def solution(S):\n",
    "    \n",
    "    if len(S) == 0:\n",
    "        return 1\n",
    "    \n",
    "    ## stack\n",
    "    stack = []\n",
    "    \n",
    "    brackets = {\"[\" : 0, \"{\" : 0, \"(\" : 0, \"]\" : 1, \"}\" : 1, \")\" : 1}\n",
    "    \n",
    "    for each in S:\n",
    "        if brackets[each] == 0:\n",
    "            stack.append(each)\n",
    "            \n",
    "        elif brackets[each] == 1 and len(stack) == 0:\n",
    "            return 0\n",
    "            \n",
    "        elif brackets[each] == 1 and len(stack) != 0:\n",
    "            if each == \"]\":\n",
    "                if stack[-1] == \"[\":\n",
    "                    stack.pop(-1)\n",
    "                else:\n",
    "                    return 0\n",
    "            \n",
    "            elif each == \"}\":\n",
    "                if stack[-1] == \"{\":\n",
    "                    stack.pop(-1)\n",
    "                else:\n",
    "                    return 0\n",
    "            \n",
    "            elif each == \")\":\n",
    "                if stack[-1] == \"(\":\n",
    "                    stack.pop(-1)\n",
    "                else:\n",
    "                    return 0\n",
    "    \n",
    "    if stack == []:\n",
    "        return 1\n",
    "    else: return 0"
   ]
  }
 ],
 "metadata": {
  "kernelspec": {
   "display_name": "Python 3",
   "language": "python",
   "name": "python3"
  },
  "language_info": {
   "codemirror_mode": {
    "name": "ipython",
    "version": 3
   },
   "file_extension": ".py",
   "mimetype": "text/x-python",
   "name": "python",
   "nbconvert_exporter": "python",
   "pygments_lexer": "ipython3",
   "version": "3.7.1"
  }
 },
 "nbformat": 4,
 "nbformat_minor": 2
}
