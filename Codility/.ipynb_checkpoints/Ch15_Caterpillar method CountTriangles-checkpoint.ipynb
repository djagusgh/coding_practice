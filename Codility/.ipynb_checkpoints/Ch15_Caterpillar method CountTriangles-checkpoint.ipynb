{
 "cells": [
  {
   "cell_type": "markdown",
   "metadata": {},
   "source": [
    "## 문제 내용, 정답 확인\n",
    "https://app.codility.com/demo/results/trainingTDB8RV-W6U/"
   ]
  },
  {
   "cell_type": "code",
   "execution_count": null,
   "metadata": {},
   "outputs": [],
   "source": [
    "def solution(A):\n",
    "    \n",
    "    A.sort()\n",
    "    \n",
    "    for x in range(n):\n",
    "        z = x + 2\n",
    "        for y in range(x + 1, z):\n",
    "            while z < n and A[x] + A[y] > A[z]:\n",
    "                z += 1\n",
    "            result += z - y - 1\n",
    "    return result"
   ]
  }
 ],
 "metadata": {
  "kernelspec": {
   "display_name": "Python 3",
   "language": "python",
   "name": "python3"
  },
  "language_info": {
   "codemirror_mode": {
    "name": "ipython",
    "version": 3
   },
   "file_extension": ".py",
   "mimetype": "text/x-python",
   "name": "python",
   "nbconvert_exporter": "python",
   "pygments_lexer": "ipython3",
   "version": "3.7.1"
  }
 },
 "nbformat": 4,
 "nbformat_minor": 2
}
