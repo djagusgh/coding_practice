{
 "cells": [
  {
   "cell_type": "markdown",
   "metadata": {},
   "source": [
    "### 관련 pdf\n",
    "\n",
    "https://codility.com/media/train/7-MaxSlice.pdf"
   ]
  },
  {
   "cell_type": "code",
   "execution_count": 2,
   "metadata": {},
   "outputs": [],
   "source": [
    "# n개의 정수로 이루어진 sequence가 있을 때\n",
    "# slice들의 합의 최댓값을 찾는 알고리즘"
   ]
  },
  {
   "cell_type": "markdown",
   "metadata": {},
   "source": [
    "### 9.1 Solution with O(n ** 3) time complexity"
   ]
  },
  {
   "cell_type": "code",
   "execution_count": 4,
   "metadata": {},
   "outputs": [],
   "source": [
    "# 모든 slice들의 합을 비교\n",
    "\n",
    "# 모든 slice들을 탐색 -> O(n ** 2)\n",
    "# 각 slice의 합 구하기 -> O(n)\n",
    "#  ---> 총 O(n ** 3) \n",
    "\n",
    "def slow_max_slice(A):\n",
    "    n = len(A)\n",
    "    result = 0\n",
    "    for p in range(n):\n",
    "        for q in range(p, n):\n",
    "            part_sum = 0\n",
    "            for i in range(p, q + 1):\n",
    "                part_sum += A[i]\n",
    "            result = max(result, part_sum)\n",
    "    return result"
   ]
  },
  {
   "cell_type": "markdown",
   "metadata": {},
   "source": [
    "### 9.2 Solution with O(n ** 2) time complexity"
   ]
  },
  {
   "cell_type": "markdown",
   "metadata": {},
   "source": [
    "1) prefix sum을 활용!"
   ]
  },
  {
   "cell_type": "code",
   "execution_count": 10,
   "metadata": {},
   "outputs": [],
   "source": [
    "def prefix_sum(A):\n",
    "    result = [0] * (len(A) + 1)\n",
    "    for i in range(1, len(result)):\n",
    "        result[i] = result[i - 1] + A[i -1]\n",
    "    \n",
    "    return result\n",
    "\n",
    "# pref : array of prefix sums\n",
    "def quadratic_max_slice(A, pref):\n",
    "    n = len(A)\n",
    "    result = 0\n",
    "    for p in range(n):\n",
    "        for q in range(p, n):\n",
    "            part_sum = pref[q + 1] - pref[q]\n",
    "            result = max(result, part_sum)\n",
    "    return result\n"
   ]
  },
  {
   "cell_type": "markdown",
   "metadata": {},
   "source": [
    "2) prefix sum 사용 X!\n",
    "\n",
    "- slice(p,q)의 합을 안다면 slice(p, q + 1)의 합 -> sum(slice(p, q)) + a[q + 1] 꼴"
   ]
  },
  {
   "cell_type": "code",
   "execution_count": 11,
   "metadata": {},
   "outputs": [],
   "source": [
    "def quadratic_max_slice(A):\n",
    "    n = len(A)\n",
    "    result = 0\n",
    "    for p in range(n):\n",
    "        part_sum = 0\n",
    "        for q in (p, n):\n",
    "            part_sum += A[q]\n",
    "            result = max(result, part_sum)\n",
    "    return result"
   ]
  },
  {
   "cell_type": "markdown",
   "metadata": {},
   "source": [
    "### 9.3 Solution with O(n) time complexity"
   ]
  },
  {
   "cell_type": "markdown",
   "metadata": {},
   "source": [
    "for문 돌 때, 각 위치에서 끝나는 최대 합을 계산할 수 있다. <br>\n",
    "index i에서 끝나는 slice의 최대 합을 구한 후 <br>\n",
    "이전까지의 최대 합의 값과 비교함 <br>\n",
    "\n",
    "----\n",
    "천재인듯;;"
   ]
  },
  {
   "cell_type": "code",
   "execution_count": 12,
   "metadata": {},
   "outputs": [],
   "source": [
    "def golden_max_slice(A):\n",
    "    max_ending = max_slice = 0\n",
    "    for a in A:\n",
    "        max_ending = max(0, max_ending + a)\n",
    "        max_slice = max(max_slice, max_ending)\n",
    "    return max_slice"
   ]
  },
  {
   "cell_type": "code",
   "execution_count": null,
   "metadata": {},
   "outputs": [],
   "source": []
  }
 ],
 "metadata": {
  "kernelspec": {
   "display_name": "Python 3",
   "language": "python",
   "name": "python3"
  },
  "language_info": {
   "codemirror_mode": {
    "name": "ipython",
    "version": 3
   },
   "file_extension": ".py",
   "mimetype": "text/x-python",
   "name": "python",
   "nbconvert_exporter": "python",
   "pygments_lexer": "ipython3",
   "version": "3.7.1"
  }
 },
 "nbformat": 4,
 "nbformat_minor": 2
}
