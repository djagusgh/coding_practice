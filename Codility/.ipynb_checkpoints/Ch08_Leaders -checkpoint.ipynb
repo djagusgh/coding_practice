{
 "cells": [
  {
   "cell_type": "markdown",
   "metadata": {},
   "source": [
    "## pdf 내용\n",
    "https://codility.com/media/train/6-Leader.pdf"
   ]
  },
  {
   "cell_type": "code",
   "execution_count": 1,
   "metadata": {},
   "outputs": [],
   "source": [
    "# Leader\n",
    "\n",
    "# n개 원소 있는 sequence 내에서 n/2개 이상 나타나는 값을 찾기\n",
    "# ex) [1,2,2,4,7,2,2] -> Leader = 2"
   ]
  },
  {
   "cell_type": "markdown",
   "metadata": {},
   "source": [
    "### 8.1 Solution with O(n**2) time complexity"
   ]
  },
  {
   "cell_type": "code",
   "execution_count": 2,
   "metadata": {},
   "outputs": [],
   "source": [
    "# 일반적으로 생각할 수 있는 방법! (완전 탐색)\n",
    "\n",
    "def slowLeader(A):\n",
    "    n = len(A)\n",
    "    leader = -1\n",
    "    for k in range(n):\n",
    "        candidate = A[k]\n",
    "        count = 0\n",
    "        for i in range(n):\n",
    "            if A[i] == candidate:\n",
    "                count += 1\n",
    "        if (count > n // 2):\n",
    "            leader = candidate\n",
    "    return leader"
   ]
  },
  {
   "cell_type": "markdown",
   "metadata": {},
   "source": [
    "### 8.2 Solution with O(n*logn) time complexity"
   ]
  },
  {
   "cell_type": "code",
   "execution_count": 3,
   "metadata": {},
   "outputs": [],
   "source": [
    "# sequence를 정렬하면 -> 동일한 값들이 인접하게 나타남\n",
    "# leader가 존재한다면 정렬했을 떄 index n/2의 값은 무조건 leader이다\n",
    "# 즉 8.1과 다르게 for문 돌면서 candidate를 완전탐색하지 않아도 됨\n",
    "\n",
    "def fastLeader(A):\n",
    "    n = len(A)\n",
    "    leader = -1\n",
    "    A.sort()\n",
    "    candidate = A[n // 2]\n",
    "    count = 0\n",
    "    for i in range(n):\n",
    "        if A[i] == candidate:\n",
    "            count += 1\n",
    "    if (count > n // 2):\n",
    "        leader = candidate\n",
    "    return leader"
   ]
  },
  {
   "cell_type": "markdown",
   "metadata": {},
   "source": [
    "### 8.3 Solution  with O(n) time complexity"
   ]
  },
  {
   "cell_type": "code",
   "execution_count": 6,
   "metadata": {},
   "outputs": [],
   "source": [
    "# 만약 길이 n의 sequence가 leader를 포함하고 있다면\n",
    "# 다른 값을 가진 원소 2개를 빼도 leader는 달라지지 않는다!\n",
    "\n",
    "# stack 사용해 구현\n",
    "# 반복문 돌면서 각 원소를 stack에 push한 후, \n",
    "# stack의 top 2개 원소 값이 같으면 냅두고,\n",
    "# 다르면 두 값 제거함\n",
    "\n",
    "# stack의 모든 원소를 기억할 필요는 없다. (top 아래 모든 값들이 동일할 것이기 때문!)\n",
    "# stack element의 값과 stack의 size만 알고있으면 충분!\n",
    "\n",
    "def goldenLeader(A):\n",
    "    n = len(A)\n",
    "    size = 0\n",
    "    value = 0\n",
    "    \n",
    "    for k in range(n):\n",
    "        if (size == 0):\n",
    "            size += 1\n",
    "            value = A[k]\n",
    "        else:\n",
    "            if (value != A[k]):\n",
    "                size -= 1\n",
    "            else:\n",
    "                size += 1\n",
    "    candidate = -1\n",
    "    if (size > 0):\n",
    "        candidate = value\n",
    "    leader = -1\n",
    "    count = 0\n",
    "    \n",
    "    for k in range(n):\n",
    "        if (A[k] == candidate):\n",
    "            count += 1\n",
    "    \n",
    "    if (count > n // 2):\n",
    "        leader = candidate\n",
    "    \n",
    "    return leader"
   ]
  },
  {
   "cell_type": "code",
   "execution_count": null,
   "metadata": {},
   "outputs": [],
   "source": []
  }
 ],
 "metadata": {
  "kernelspec": {
   "display_name": "Python 3",
   "language": "python",
   "name": "python3"
  },
  "language_info": {
   "codemirror_mode": {
    "name": "ipython",
    "version": 3
   },
   "file_extension": ".py",
   "mimetype": "text/x-python",
   "name": "python",
   "nbconvert_exporter": "python",
   "pygments_lexer": "ipython3",
   "version": "3.7.1"
  }
 },
 "nbformat": 4,
 "nbformat_minor": 2
}
