{
 "cells": [
  {
   "cell_type": "markdown",
   "metadata": {},
   "source": [
    "## 문제 내용, 정답 확인\n",
    "\n",
    "https://app.codility.com/demo/results/trainingCZMD9Q-QCW/"
   ]
  },
  {
   "cell_type": "code",
   "execution_count": null,
   "metadata": {},
   "outputs": [],
   "source": [
    "# bad solution -> O(M * N)\n",
    "\n",
    "def solution(S, P, Q):\n",
    "    # write your code in Python 3.6\n",
    "    \n",
    "    answer = []\n",
    "    \n",
    "    impact_dict = {\"A\" : 1, \"C\" : 2, \"G\" : 3, \"T\" : 4}\n",
    "\n",
    "    for i in range(len(P)):\n",
    "        \n",
    "        left = P[i]\n",
    "        right = Q[i]\n",
    "        \n",
    "        check = S[left: right + 1]\n",
    "        factor = 4\n",
    "        \n",
    "        for j in range(len(check)):\n",
    "            \n",
    "            impact_num = impact_dict[check[j]]\n",
    "            \n",
    "            if impact_num == 1:\n",
    "                factor = 1\n",
    "                break\n",
    "            elif impact_num < factor:\n",
    "                factor = impact_num\n",
    "        \n",
    "        answer.append(factor)\n",
    "    \n",
    "    return answer"
   ]
  },
  {
   "cell_type": "code",
   "execution_count": null,
   "metadata": {},
   "outputs": [],
   "source": [
    "# bad solution -> O(M * N)\n",
    "\n",
    "def solution(S, P, Q):\n",
    "    # write your code in Python 3.6\n",
    "    answer = []\n",
    "    \n",
    "    # factor_dict = {\"A\" : 1, \"C\" : 2, \"G\" : 3, \"T\" : 4}\n",
    "    \n",
    "    for i in range(len(P)):\n",
    "        \n",
    "        left = P[i]\n",
    "        right = Q[i]\n",
    "        \n",
    "        check = set(S[left: right + 1])\n",
    "    \n",
    "        \n",
    "        if \"A\" in check:\n",
    "            answer.append(1)\n",
    "        elif \"C\" in check:\n",
    "            answer.append(2)\n",
    "        elif \"G\" in check:\n",
    "            answer.append(3)\n",
    "        else:\n",
    "            answer.append(4)\n",
    "    \n",
    "    return answer"
   ]
  },
  {
   "cell_type": "code",
   "execution_count": 10,
   "metadata": {},
   "outputs": [],
   "source": [
    "# good solution -> O(N + M)\n",
    "\n",
    "# https://codility.com/media/train/3-PrefixSums.pdf 의 prefix_sum + counter 응용\n"
   ]
  },
  {
   "cell_type": "code",
   "execution_count": 9,
   "metadata": {},
   "outputs": [
    {
     "data": {
      "text/plain": [
       "['12CD']"
      ]
     },
     "execution_count": 9,
     "metadata": {},
     "output_type": "execute_result"
    }
   ],
   "source": [
    "def solution(S, P, Q):\n",
    "    # write your code in Python 3.6\n",
    "    answer = []\n",
    "    \n",
    "    counter_list = [[0,0,0,0]]\n",
    "    \n",
    "    counter = [0,0,0,0]\n",
    "    \n",
    "    for char in S:\n",
    "        if char == \"A\":\n",
    "            counter[0] += 1\n",
    "        elif char == \"C\":\n",
    "            counter[1] += 1\n",
    "        elif char == \"G\":\n",
    "            counter[2] += 1\n",
    "        elif char == \"T\":\n",
    "            counter[3] += 1\n",
    "        \n",
    "        # counter[:] : shallow copy\n",
    "        counter_list.append(counter[:])\n",
    "\n",
    "    \n",
    "    for i in range(len(P)):\n",
    "        \n",
    "        left = P[i]\n",
    "        right = Q[i]\n",
    "        \n",
    "        for j in range(4):\n",
    "            val = counter_list[right + 1][j] - counter_list[left][j]\n",
    "            if val != 0:\n",
    "                answer.append(j + 1)\n",
    "                break\n",
    "            \n",
    "\n",
    "    return answer"
   ]
  },
  {
   "cell_type": "code",
   "execution_count": null,
   "metadata": {},
   "outputs": [],
   "source": [
    "[\"1\"]"
   ]
  }
 ],
 "metadata": {
  "kernelspec": {
   "display_name": "Python 3",
   "language": "python",
   "name": "python3"
  },
  "language_info": {
   "codemirror_mode": {
    "name": "ipython",
    "version": 3
   },
   "file_extension": ".py",
   "mimetype": "text/x-python",
   "name": "python",
   "nbconvert_exporter": "python",
   "pygments_lexer": "ipython3",
   "version": "3.7.1"
  }
 },
 "nbformat": 4,
 "nbformat_minor": 2
}
