{
 "cells": [
  {
   "cell_type": "markdown",
   "metadata": {},
   "source": [
    "## 문제 내용, 정답 확인\n",
    "\n",
    "https://app.codility.com/demo/results/trainingJNMX2Q-HPY/"
   ]
  },
  {
   "cell_type": "code",
   "execution_count": 1,
   "metadata": {},
   "outputs": [],
   "source": [
    "def solution(N):\n",
    "    # write your code in\n",
    "    \n",
    "    sqrt_num = int(N ** 0.5)\n",
    "    \n",
    "    for i in reversed(range(sqrt_num + 1)):\n",
    "        if N % i == 0:\n",
    "            num1 = i\n",
    "            break\n",
    "    \n",
    "    num2 = N // num1\n",
    "\n",
    "    return 2 * (num1 + num2)"
   ]
  },
  {
   "cell_type": "code",
   "execution_count": null,
   "metadata": {},
   "outputs": [],
   "source": []
  }
 ],
 "metadata": {
  "kernelspec": {
   "display_name": "Python 3",
   "language": "python",
   "name": "python3"
  },
  "language_info": {
   "codemirror_mode": {
    "name": "ipython",
    "version": 3
   },
   "file_extension": ".py",
   "mimetype": "text/x-python",
   "name": "python",
   "nbconvert_exporter": "python",
   "pygments_lexer": "ipython3",
   "version": "3.7.1"
  }
 },
 "nbformat": 4,
 "nbformat_minor": 2
}
