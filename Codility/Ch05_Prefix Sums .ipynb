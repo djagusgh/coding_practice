{
 "cells": [
  {
   "cell_type": "markdown",
   "metadata": {},
   "source": [
    "https://codility.com/media/train/3-PrefixSums.pdf"
   ]
  },
  {
   "cell_type": "code",
   "execution_count": null,
   "metadata": {},
   "outputs": [],
   "source": [
    "# Counting prefix sums ~ O(n)\n",
    "\n",
    "def prefix_sums(A):\n",
    "    n = len(A)\n",
    "    P = [0] * (n + 1)\n",
    "    for k in range(1, n + 1):\n",
    "        P[k] = P[k - 1] + A[k - 1]\n",
    "    return P\n",
    "    \n",
    "    "
   ]
  },
  {
   "cell_type": "code",
   "execution_count": 1,
   "metadata": {},
   "outputs": [],
   "source": [
    "# Total of one slice ~ O(1)\n",
    "def count_total(P, x, y):\n",
    "    return P[y + 1] - P[x]"
   ]
  },
  {
   "cell_type": "code",
   "execution_count": null,
   "metadata": {},
   "outputs": [],
   "source": [
    "# k : start spot, m : moves\n",
    "\n",
    "def mushrooms(A, k, m):\n",
    "    n = len(A)\n",
    "    result = 0\n",
    "    pref = prefix_sums(A)\n",
    "    for p in range(min(m, k) + 1):\n",
    "        left_pos = k - p\n",
    "        right_pos = min(n - 1, )\n",
    "\n",
    "        "
   ]
  },
  {
   "cell_type": "code",
   "execution_count": null,
   "metadata": {},
   "outputs": [],
   "source": [
    "sum"
   ]
  }
 ],
 "metadata": {
  "kernelspec": {
   "display_name": "Python 3",
   "language": "python",
   "name": "python3"
  },
  "language_info": {
   "codemirror_mode": {
    "name": "ipython",
    "version": 3
   },
   "file_extension": ".py",
   "mimetype": "text/x-python",
   "name": "python",
   "nbconvert_exporter": "python",
   "pygments_lexer": "ipython3",
   "version": "3.7.1"
  }
 },
 "nbformat": 4,
 "nbformat_minor": 2
}
