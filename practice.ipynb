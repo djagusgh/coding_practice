{
 "cells": [
  {
   "cell_type": "code",
   "execution_count": 1,
   "metadata": {},
   "outputs": [],
   "source": [
    "def counting(A, m):\n",
    "    n = len(A)\n",
    "    count = [0] * (m + 1)\n",
    "    for k in range(n):\n",
    "        count[A[k]] += 1\n",
    "    return count"
   ]
  },
  {
   "cell_type": "code",
   "execution_count": 5,
   "metadata": {},
   "outputs": [
    {
     "data": {
      "text/plain": [
       "[0, 4, 1, 1, 1, 1, 0, 0]"
      ]
     },
     "execution_count": 5,
     "metadata": {},
     "output_type": "execute_result"
    }
   ],
   "source": [
    "counting([1,1,1,1,2,3,4,5], 7)"
   ]
  },
  {
   "cell_type": "code",
   "execution_count": 3,
   "metadata": {},
   "outputs": [
    {
     "name": "stdout",
     "output_type": "stream",
     "text": [
      "가\n",
      "나\n",
      "가\n",
      "나\n",
      "가\n",
      "가\n",
      "가\n"
     ]
    }
   ],
   "source": [
    "i = 1\n",
    "\n",
    "while i <= 5:\n",
    "    print(\"가\")\n",
    "    if i >= 3:\n",
    "        i += 1\n",
    "        continue\n",
    "    print(\"나\")\n",
    "    i += 1\n",
    "          "
   ]
  },
  {
   "cell_type": "code",
   "execution_count": 4,
   "metadata": {},
   "outputs": [],
   "source": [
    "def solution(S, K):\n",
    "    # write your code in Python 3.6\n",
    "    # K : split 시 최대 갯수\n",
    "\n",
    "    words = S.strip().split(\" \")\n",
    "    \n",
    "    n = len(words)\n",
    "    \n",
    "    answer = 0\n",
    "    \n",
    "    i = 0\n",
    "    while i <= n - 1:\n",
    "        \n",
    "        total_length = len(words[i])\n",
    "        print(total_length)\n",
    "        m = 0\n",
    "        \n",
    "        if total_length > K:\n",
    "            return -1\n",
    "            \n",
    "        if total_length >= K - 1:\n",
    "            i += 1\n",
    "            answer += 1\n",
    "            continue\n",
    "        \n",
    "        for j in range(i + 1, n):\n",
    "            length = len(words[j])\n",
    "            if total_length + length + 1 > K:\n",
    "                answer += 1\n",
    "                i += 1\n",
    "                break\n",
    "            total_length += length + 1\n",
    "            m += 1\n",
    "      \n",
    "        answer += 1\n",
    "        i += m\n",
    "\n",
    "    return answer"
   ]
  },
  {
   "cell_type": "code",
   "execution_count": 7,
   "metadata": {},
   "outputs": [
    {
     "name": "stdout",
     "output_type": "stream",
     "text": [
      "97\n",
      "98\n"
     ]
    }
   ],
   "source": [
    "print(ord(\"a\"))\n",
    "print(ord(\"b\"))"
   ]
  },
  {
   "cell_type": "code",
   "execution_count": null,
   "metadata": {},
   "outputs": [],
   "source": []
  }
 ],
 "metadata": {
  "kernelspec": {
   "display_name": "Python 3",
   "language": "python",
   "name": "python3"
  },
  "language_info": {
   "codemirror_mode": {
    "name": "ipython",
    "version": 3
   },
   "file_extension": ".py",
   "mimetype": "text/x-python",
   "name": "python",
   "nbconvert_exporter": "python",
   "pygments_lexer": "ipython3",
   "version": "3.7.1"
  }
 },
 "nbformat": 4,
 "nbformat_minor": 2
}
