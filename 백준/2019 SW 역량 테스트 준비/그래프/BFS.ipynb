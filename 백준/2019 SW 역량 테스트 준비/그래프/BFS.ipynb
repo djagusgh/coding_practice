{
 "cells": [
  {
   "cell_type": "markdown",
   "metadata": {},
   "source": [
    "### 미로 탐색\n",
    "https://www.acmicpc.net/problem/2178"
   ]
  },
  {
   "cell_type": "code",
   "execution_count": null,
   "metadata": {},
   "outputs": [],
   "source": [
    "from collections import deque\n",
    "\n",
    "dx = [0,0,1,-1]\n",
    "dy = [1,-1,0,0]\n",
    "\n",
    "n, m = map(int, input().split())\n",
    "a = [list(map(int, list(input()))) for _ in range(n)]\n",
    "\n",
    "q = deque()\n",
    "check = [[False]*m for _ in range(n)]\n",
    "dist = [[0]*m for _ in range(n)]\n",
    "\n",
    "q.append((0,0))\n",
    "check[0][0] = True\n",
    "dist[0][0] = 1\n",
    "\n",
    "while q:\n",
    "    x, y = q.popleft()\n",
    "    for k in range(4):\n",
    "        nx, ny = x + dx[k], y + dy[k]\n",
    "        if 0 <= nx < n and 0 <= ny < m:\n",
    "            if check[nx][ny] == False and a[nx][ny] == 1:\n",
    "                q.append((nx, ny))\n",
    "                dist[nx][ny] = dist[x][y] + 1\n",
    "                check[nx][ny] = True\n",
    "\n",
    "print(dist[n - 1][m - 1])\n",
    "    \n"
   ]
  },
  {
   "cell_type": "markdown",
   "metadata": {},
   "source": [
    "### 토마토\n",
    " https://www.acmicpc.net/problem/7576"
   ]
  },
  {
   "cell_type": "code",
   "execution_count": null,
   "metadata": {},
   "outputs": [],
   "source": [
    "from collections import deque\n",
    "\n",
    "dx = [0,0,1,-1]\n",
    "dy = [1,-1,0,0]\n",
    "\n",
    "m, n = map(int, input().split())\n",
    "a = [list(map(int, input().split())) for _ in range(n)]\n",
    "q = deque()\n",
    "dist = [[-1] * m for _ in range(n)]\n",
    "\n",
    "for i in range(m):\n",
    "    for j in range(n):\n",
    "        if a[i][j] == 1:\n",
    "            dist[i][j] = 0\n",
    "            q.append((i, j))\n",
    "\n",
    "while q:\n",
    "    x, y = q.popleft()\n",
    "    for k in range(4):\n",
    "        nx , ny = x + dx[k], y + dy[k]\n",
    "        if 0 <= nx < n and 0 <= ny < n:\n",
    "            if a[nx][ny] == 1 and dist[nx][ny] == -1:\n",
    "                q.append((nx, ny))\n",
    "                dist[nx][ny] = dist[x][y] + 1\n",
    "                \n",
    "# 상자 내부의 토마토가 모두 익기 위한 최소 날 수\n",
    "\n",
    "ans = max([max(row) for row in dist])\n",
    "for i in range(n):\n",
    "    for j in range(m):\n",
    "        if a[i][j] == 0 and dist[i][j] == -1:\n",
    "            ans = -1\n",
    "            \n",
    "print(ans)"
   ]
  },
  {
   "cell_type": "markdown",
   "metadata": {},
   "source": [
    "### 숨바꼭질\n",
    "\n",
    "https://www.acmicpc.net/problem/1697"
   ]
  },
  {
   "cell_type": "code",
   "execution_count": null,
   "metadata": {},
   "outputs": [],
   "source": [
    "from collections import deque\n",
    "\n",
    "MAX = 200000\n",
    "check = [False] * (MAX + 1)\n",
    "dist = [-1] * (MAX + 1)\n",
    "\n",
    "# n : 수빈이의 위치 , k : 동생이 있는 위치\n",
    "\n",
    "n, m = map(int, input().split())\n",
    "\n",
    "check[n] = True\n",
    "dist[n] = 0\n",
    "q = deque()\n",
    "q.append(n)\n",
    "\n",
    "while q:\n",
    "    now = q.popleft()\n",
    "    for nxt in [now - 1, now + 1, now * 2]:\n",
    "        if 0 <= nxt <= MAX and check[nxt] == False:\n",
    "            check[nxt] = True\n",
    "            dist[nxt] = dist[now] + 1\n",
    "            q.append(nxt)\n",
    "\n",
    "print(dist[m])\n",
    "            \n",
    "\n"
   ]
  },
  {
   "cell_type": "markdown",
   "metadata": {},
   "source": [
    "## 이모티콘\n",
    "\n",
    " https://www.acmicpc.net/problem/14226\n",
    " "
   ]
  },
  {
   "cell_type": "code",
   "execution_count": null,
   "metadata": {},
   "outputs": [],
   "source": [
    "from collections import deque\n",
    "\n",
    "n = int(input())\n",
    "# dist 값이 -1 -> 한 번도 거치지 않은 값\n",
    "dist = [[-1]*(n+1) for _ in range(n+1)]\n",
    "q = deque()\n",
    "q.append((1, 0))\n",
    "dist[1][0] = 0\n",
    "\n",
    "while q:\n",
    "    s, c = q.popleft()\n",
    "    # 1. 화면에 있는 이모티콘을 모두 복사해 클립보드에 저장\n",
    "    if dist[s][s] == -1:\n",
    "        dist[s][s] = dist[s][c] + 1\n",
    "        q.append((s, s))\n",
    "    # 2. 클립보드에 있는 모든 이모티콘을 화면에 붙여넣기 한다.\n",
    "    if s + c <= n and dist[s+c][c] == -1:\n",
    "        dist[s+c][c] = dist[s][c] + 1\n",
    "        q.append((s+c, c))\n",
    "    # 3. 화면에 있는 이모티콘 중 하나를 삭제한다.\n",
    "    if s-1 >= 0 and dist[s-1][c] == -1:\n",
    "        dist[s-1][c] = dist[s][c] + 1\n",
    "        q.append((s-1, c))\n",
    "\n",
    "ans = -1\n",
    "for i in range(n+1):\n",
    "    if dist[n][i] != -1:\n",
    "        if ans == -1 or ans > dist[n][i]:\n",
    "            ans = dist[n][i]\n",
    "\n",
    "print(ans)"
   ]
  }
 ],
 "metadata": {
  "kernelspec": {
   "display_name": "Python 3",
   "language": "python",
   "name": "python3"
  },
  "language_info": {
   "codemirror_mode": {
    "name": "ipython",
    "version": 3
   },
   "file_extension": ".py",
   "mimetype": "text/x-python",
   "name": "python",
   "nbconvert_exporter": "python",
   "pygments_lexer": "ipython3",
   "version": "3.7.1"
  }
 },
 "nbformat": 4,
 "nbformat_minor": 2
}
