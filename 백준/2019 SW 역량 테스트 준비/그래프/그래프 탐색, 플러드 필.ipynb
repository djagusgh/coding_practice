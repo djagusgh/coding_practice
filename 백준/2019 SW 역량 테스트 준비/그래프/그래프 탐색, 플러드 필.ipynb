{
 "cells": [
  {
   "cell_type": "markdown",
   "metadata": {},
   "source": [
    "## 1. 깊이 우선 탐색(Depth First Search)\n",
    "\n",
    "- 스택을 이용하여 갈 수 있을 만큼 최대한 많이 가고\n",
    "갈 수 없으면 이전 정점으로 돌아감"
   ]
  },
  {
   "cell_type": "markdown",
   "metadata": {},
   "source": [
    "## 2. 너비 우선 탐색(Breadth First Search)\n",
    "\n",
    "- queue 사용"
   ]
  },
  {
   "cell_type": "markdown",
   "metadata": {},
   "source": [
    "## 3. 인접 리스트로 구현한 DFS, BFS"
   ]
  },
  {
   "cell_type": "code",
   "execution_count": 2,
   "metadata": {},
   "outputs": [],
   "source": [
    "from collections import deque\n",
    "\n",
    "# 입출력\n",
    "# n : 정점의 갯수, m 간선의 갯수\n",
    "n, m, start = map(int, input().split())\n",
    "edges = []\n",
    "check = [False] * (n + 1)\n",
    "\n",
    "# 간선 리스트 아니냐???\n",
    "for _ in range(m):\n",
    "    u, v = map(int, input().split())\n",
    "    edges.append((u, v))\n",
    "    edges.append((v, u))\n",
    "m *= 2\n",
    "edges.sort()\n",
    "cnt = [0] * (n+1)\n",
    "\n",
    "for u, v in edges:\n",
    "    cnt[u] += 1\n",
    "    \n",
    "for i in range(1, n+1):\n",
    "    cnt[i] += cnt[i - 1]\n",
    "\n",
    "def dfs(x):\n",
    "    global check\n",
    "    check[x] = True\n",
    "    print(x, end= ' ')\n",
    "    for i in range(cnt[x - 1], cnt[x]):\n",
    "        y = edges[i][1]\n",
    "        if check[y] == False:\n",
    "            dfs(y)\n",
    "\n",
    "def bfs(start):\n",
    "    check = [False] * (n+1)\n",
    "    q = deque()\n",
    "    q.append(start)\n",
    "    check[start] = True\n",
    "    while q:\n",
    "        x = q.popleft()\n",
    "        print(x, end= ' ')\n",
    "        for i in range(cnt[x-1], cnt[x]):\n",
    "            y = edges[i][1]\n",
    "            if check[y] == False:\n",
    "                check[y] = True\n",
    "                q.append(y)\n",
    "                \n",
    "dfs(start)\n",
    "print()\n",
    "bfs(start)\n",
    "print()\n",
    "            \n"
   ]
  },
  {
   "cell_type": "code",
   "execution_count": null,
   "metadata": {},
   "outputs": [],
   "source": [
    "from collections import deque\n",
    "n,m,start = map(int,input().split())\n",
    "a = [[] for _ in range(n+1)]\n",
    "for _ in range(m):\n",
    "    u,v = map(int,input().split())\n",
    "    a[u].append(v)\n",
    "    a[v].append(u)\n",
    "for i in range(n):\n",
    "    a[i].sort()\n",
    "\n",
    "def dfs(node):\n",
    "    check = [False] * (n+1)\n",
    "    stack = []\n",
    "    stack.append((node,0))\n",
    "    check[node] = True\n",
    "    print(node, end=' ')\n",
    "    while stack:\n",
    "        x,start = stack.pop()\n",
    "        for i in range(start, len(a[x])):\n",
    "            y = a[x][i]\n",
    "            if check[y] == False:\n",
    "                print(y, end=' ')\n",
    "                check[y] = True\n",
    "                stack.append((x,i+1))\n",
    "                stack.append((y,0))\n",
    "                break\n",
    "\n",
    "def bfs(start):\n",
    "    check = [False] * (n+1)\n",
    "    q = deque()\n",
    "    q.append(start)\n",
    "    check[start] = True\n",
    "    while q:\n",
    "        x = q.popleft()\n",
    "        print(x, end=' ')\n",
    "        for y in a[x]:\n",
    "            if check[y] == False:\n",
    "                check[y] = True\n",
    "                q.append(y)\n",
    "\n",
    "dfs(start)\n",
    "print()\n",
    "bfs(start)\n",
    "print()\n"
   ]
  },
  {
   "cell_type": "markdown",
   "metadata": {},
   "source": [
    "## 연결 요소의 갯수를 구하는 문제\n",
    "\n",
    "\n",
    "https://www.acmicpc.net/problem/11724"
   ]
  },
  {
   "cell_type": "code",
   "execution_count": 4,
   "metadata": {},
   "outputs": [
    {
     "name": "stdout",
     "output_type": "stream",
     "text": [
      "asdsafsdf\n"
     ]
    },
    {
     "ename": "ValueError",
     "evalue": "invalid literal for int() with base 10: 'asdsafsdf'",
     "output_type": "error",
     "traceback": [
      "\u001b[1;31m---------------------------------------------------------------------------\u001b[0m",
      "\u001b[1;31mValueError\u001b[0m                                Traceback (most recent call last)",
      "\u001b[1;32m<ipython-input-4-c8774656ca77>\u001b[0m in \u001b[0;36m<module>\u001b[1;34m\u001b[0m\n\u001b[0;32m      2\u001b[0m \u001b[0msys\u001b[0m\u001b[1;33m.\u001b[0m\u001b[0msetrecursionlimit\u001b[0m\u001b[1;33m(\u001b[0m\u001b[1;36m100000\u001b[0m\u001b[1;33m)\u001b[0m\u001b[1;33m\u001b[0m\u001b[1;33m\u001b[0m\u001b[0m\n\u001b[0;32m      3\u001b[0m \u001b[1;33m\u001b[0m\u001b[0m\n\u001b[1;32m----> 4\u001b[1;33m \u001b[0mn\u001b[0m\u001b[1;33m,\u001b[0m \u001b[0mm\u001b[0m \u001b[1;33m=\u001b[0m \u001b[0mmap\u001b[0m\u001b[1;33m(\u001b[0m\u001b[0mint\u001b[0m\u001b[1;33m,\u001b[0m \u001b[0minput\u001b[0m\u001b[1;33m(\u001b[0m\u001b[1;33m)\u001b[0m\u001b[1;33m.\u001b[0m\u001b[0msplit\u001b[0m\u001b[1;33m(\u001b[0m\u001b[1;33m)\u001b[0m\u001b[1;33m)\u001b[0m\u001b[1;33m\u001b[0m\u001b[1;33m\u001b[0m\u001b[0m\n\u001b[0m\u001b[0;32m      5\u001b[0m \u001b[0ma\u001b[0m \u001b[1;33m=\u001b[0m \u001b[1;33m[\u001b[0m\u001b[1;33m[\u001b[0m\u001b[1;33m]\u001b[0m \u001b[1;32mfor\u001b[0m \u001b[0m_\u001b[0m \u001b[1;32min\u001b[0m \u001b[0mrange\u001b[0m\u001b[1;33m(\u001b[0m\u001b[0mn\u001b[0m\u001b[1;33m)\u001b[0m\u001b[1;33m]\u001b[0m\u001b[1;33m\u001b[0m\u001b[1;33m\u001b[0m\u001b[0m\n\u001b[0;32m      6\u001b[0m \u001b[0mcheck\u001b[0m \u001b[1;33m=\u001b[0m \u001b[1;33m[\u001b[0m\u001b[1;32mFalse\u001b[0m\u001b[1;33m]\u001b[0m \u001b[1;33m*\u001b[0m \u001b[1;33m(\u001b[0m\u001b[0mn\u001b[0m\u001b[1;33m)\u001b[0m\u001b[1;33m\u001b[0m\u001b[1;33m\u001b[0m\u001b[0m\n",
      "\u001b[1;31mValueError\u001b[0m: invalid literal for int() with base 10: 'asdsafsdf'"
     ]
    }
   ],
   "source": [
    "import sys\n",
    "sys.setrecursionlimit(100000)\n",
    "\n",
    "n, m = map(int, input().split())\n",
    "a = [[] for _ in range(n)]\n",
    "check = [False] * (n)\n",
    "for _ in range(m):\n",
    "    u, v = map(int, input().split())\n",
    "    a[u - 1].append(v - 1)\n",
    "    a[v - 1].append(u - 1)\n",
    "\n",
    "def dfs(x):\n",
    "    check[x] = True\n",
    "    for y in a[x]:\n",
    "        if check[y] == False:\n",
    "            dfs(y)\n",
    "            \n",
    "ans = 0\n",
    "for i in range(n):\n",
    "    if not check[i]:\n",
    "        dfs(i)\n",
    "        ans += 1\n",
    "\n",
    "print(ans)"
   ]
  },
  {
   "cell_type": "markdown",
   "metadata": {},
   "source": [
    "## 이분 그래프\n",
    "https://www.acmicpc.net/problem/1707\n",
    "\n",
    "- 그래프가 이분 그래프인지 아닌지 판별하는 문제"
   ]
  },
  {
   "cell_type": "code",
   "execution_count": 7,
   "metadata": {},
   "outputs": [
    {
     "ename": "ValueError",
     "evalue": "invalid literal for int() with base 10: ''",
     "output_type": "error",
     "traceback": [
      "\u001b[1;31m---------------------------------------------------------------------------\u001b[0m",
      "\u001b[1;31mValueError\u001b[0m                                Traceback (most recent call last)",
      "\u001b[1;32m<ipython-input-7-9b5fac0a33a4>\u001b[0m in \u001b[0;36m<module>\u001b[1;34m\u001b[0m\n\u001b[0;32m      2\u001b[0m \u001b[1;33m\u001b[0m\u001b[0m\n\u001b[0;32m      3\u001b[0m \u001b[0msys\u001b[0m\u001b[1;33m.\u001b[0m\u001b[0msetrecursionlimit\u001b[0m\u001b[1;33m(\u001b[0m\u001b[1;36m1000000\u001b[0m\u001b[1;33m)\u001b[0m\u001b[1;33m\u001b[0m\u001b[1;33m\u001b[0m\u001b[0m\n\u001b[1;32m----> 4\u001b[1;33m \u001b[0mt\u001b[0m \u001b[1;33m=\u001b[0m \u001b[0mint\u001b[0m\u001b[1;33m(\u001b[0m\u001b[0msys\u001b[0m\u001b[1;33m.\u001b[0m\u001b[0mstdin\u001b[0m\u001b[1;33m.\u001b[0m\u001b[0mreadline\u001b[0m\u001b[1;33m(\u001b[0m\u001b[1;33m)\u001b[0m\u001b[1;33m)\u001b[0m\u001b[1;33m\u001b[0m\u001b[1;33m\u001b[0m\u001b[0m\n\u001b[0m\u001b[0;32m      5\u001b[0m \u001b[1;33m\u001b[0m\u001b[0m\n\u001b[0;32m      6\u001b[0m \u001b[1;32mfor\u001b[0m \u001b[0m_\u001b[0m \u001b[1;32min\u001b[0m \u001b[0mrange\u001b[0m\u001b[1;33m(\u001b[0m\u001b[0mt\u001b[0m\u001b[1;33m)\u001b[0m\u001b[1;33m:\u001b[0m\u001b[1;33m\u001b[0m\u001b[1;33m\u001b[0m\u001b[0m\n",
      "\u001b[1;31mValueError\u001b[0m: invalid literal for int() with base 10: ''"
     ]
    }
   ],
   "source": [
    "import sys\n",
    "\n",
    "sys.setrecursionlimit(1000000)\n",
    "t = int(sys.stdin.readline())\n",
    "\n",
    "for _ in range(t):\n",
    "    n, m = map(int, sys.stdin.readline().split())\n",
    "    a = [[] for _ in range(n)]\n",
    "    color = [0] * n\n",
    "    for _ in range(m):\n",
    "        u, v = map(int, sys.stdin.readline().split())\n",
    "        a[u-1].append(v-1)\n",
    "        a[v-1].append(u-1)\n",
    "    \n",
    "    def dfs(x, c):\n",
    "        color[x] = c\n",
    "        for y in a[x]:\n",
    "            if color[y] == 0:\n",
    "                if not dfs(y, 3-c):\n",
    "                    return False\n",
    "            elif color[y] == color[x]:\n",
    "                return False\n",
    "        return True\n",
    "    \n",
    "    ans = True\n",
    "    for i in range(n):\n",
    "        if color[i] == 0:\n",
    "            if not dfs(i, 1):\n",
    "                ans = False\n",
    "                \n",
    "    print('YES' if ans else 'NO')\n",
    "    \n",
    "    "
   ]
  },
  {
   "cell_type": "markdown",
   "metadata": {},
   "source": [
    "## 플러드 필(Flood Fill) 알고리즘\n",
    "\n",
    "- 어떤 위치와 연결된 모든 위치를 찾는 알고리즘"
   ]
  },
  {
   "cell_type": "markdown",
   "metadata": {},
   "source": [
    "### 단지번호 붙이기\n",
    "\n",
    "- 각 단지에 속하는 집의 갯수 구하기\n",
    "\n",
    "https://www.acmicpc.net/problem/2667"
   ]
  },
  {
   "cell_type": "code",
   "execution_count": 11,
   "metadata": {},
   "outputs": [],
   "source": [
    "# 1) BFS\n",
    "\n",
    "from collections import deque, Counter\n",
    "from functools import reduce\n",
    "\n",
    "\n",
    "dx = [0,0,1,-1]\n",
    "dy = [1,-1,0,0]\n",
    "\n",
    "# group 리스트 : group[i][j] = (i, j)를 방문 안했으면 0, 했으면 단지 번호!\n",
    "\n",
    "def bfs(x, y, cnt):\n",
    "    q = deque()\n",
    "    q.append((x, y))\n",
    "    group[x][y] = cnt\n",
    "    \n",
    "    while q:\n",
    "        x, y = q.popleft()\n",
    "        for k in range(4):\n",
    "            nx, ny = x + dx[k], y + dy[k]\n",
    "            if 0 <= nx < n and 0 <= ny < n:\n",
    "                if a[nx][ny] == 1 and group[nx][ny] == 0:\n",
    "                    q.append((nx, ny))\n",
    "                    group[nx][ny] = cnt\n",
    "\n",
    "n = int(input())\n",
    "a = [list(map(int, list(input()))) for _ in range(n)]\n",
    "\n",
    "group = [[0] * n for _ in range(n)]\n",
    "cnt = 0\n",
    "for i in range(n):\n",
    "    for j in range(n):\n",
    "        if a[i][j] == 1 and group[i][j] == 0:\n",
    "            cnt += 1\n",
    "            bfs(i, j, cnt)\n",
    "\n",
    "ans = reduce(lambda x,y : x + y, group)\n",
    "ans = [x for x in ans if x]\n",
    "    "
   ]
  },
  {
   "cell_type": "code",
   "execution_count": 12,
   "metadata": {},
   "outputs": [],
   "source": [
    "# 2) dfs\n",
    "# 나머지 부분은 동일\n",
    "\n",
    "def dfs(x, y, cnt):\n",
    "    group[x][y] = cnt\n",
    "    for k in range(4):\n",
    "        nx, ny = x + dx[k], y + dy[k]\n",
    "        if 0 <= nx < n and 0 <= ny < n:\n",
    "            if a[nx][ny] == 1 and group[nx][ny] == 0:\n",
    "                dfs(nx, ny, cnt)\n"
   ]
  },
  {
   "cell_type": "markdown",
   "metadata": {},
   "source": [
    "### 섬의 개수\n",
    "https://www.acmicpc.net/problem/4963\n"
   ]
  },
  {
   "cell_type": "code",
   "execution_count": null,
   "metadata": {},
   "outputs": [],
   "source": [
    "from collections import deque\n",
    "\n",
    "dx = [0,0,1,-1,1,1,-1,-1]\n",
    "dy = [1,-1,0,0,1,-1,1,-1]\n",
    "\n",
    "def bfs(x, y, cnt):\n",
    "    q = deque()\n",
    "    q.append((x,y))\n",
    "    group[x][y] = cnt\n",
    "    \n",
    "    while q:\n",
    "        x, y = q.popleft()\n",
    "        for k in range(8):\n",
    "            nx, ny = x + dx[k], y + dy[k]\n",
    "            if 0 <= nx < n and 0 <= ny < m:\n",
    "                if a[x][y] == 1 and group[x][y] == 0:\n",
    "                    q.append((x, y))\n",
    "                    group[x][y] = cnt\n",
    "\n",
    "while True:\n",
    "    m, n = map(int, input().split())\n",
    "    if n == 0 and m == 0:\n",
    "        break\n",
    "    a = [list(map(int, input().split())) for_ in range(n)]\n",
    "    group [[0] * m for _ in range(n)]\n",
    "    cnt = 0\n",
    "    for i in range(m):\n",
    "        for j in range(n):\n",
    "            if a[i][j] == 1and group[i][j] == 0:\n",
    "                cnt += 1\n",
    "                bfs(i, j, cnt)\n",
    "    \n",
    "    print(cnt)\n",
    "\n"
   ]
  }
 ],
 "metadata": {
  "kernelspec": {
   "display_name": "Python 3",
   "language": "python",
   "name": "python3"
  },
  "language_info": {
   "codemirror_mode": {
    "name": "ipython",
    "version": 3
   },
   "file_extension": ".py",
   "mimetype": "text/x-python",
   "name": "python",
   "nbconvert_exporter": "python",
   "pygments_lexer": "ipython3",
   "version": "3.7.1"
  }
 },
 "nbformat": 4,
 "nbformat_minor": 2
}
