{
 "cells": [
  {
   "cell_type": "markdown",
   "metadata": {},
   "source": [
    "## 다음 순열을 구하는 법\n",
    "\n",
    "ex) 첫 순열 : 12345\n",
    "마지막 순열 : 54321\n",
    "\n",
    "ex)12345의 다음 순열 : 12543\n",
    "\n",
    "https://www.acmicpc.net/problem/10972\n"
   ]
  },
  {
   "cell_type": "code",
   "execution_count": 14,
   "metadata": {},
   "outputs": [
    {
     "name": "stdout",
     "output_type": "stream",
     "text": [
      "7\n",
      "7\n",
      "2\n",
      "3\n",
      "4\n",
      "5\n",
      "6\n",
      "1\n",
      "7234615\n"
     ]
    }
   ],
   "source": [
    "\n",
    "n = int(input())\n",
    "a = [int(input()) for _ in range(n)]\n",
    "ok = True\n",
    "\n",
    "# 1. a[i-1] <a[i] 만족하는 가장 큰 i 찾기\n",
    "i = n - 1\n",
    "while i > 0 and a[i-1] > a[i]:\n",
    "    i -= 1\n",
    "i -= 1\n",
    "\n",
    "if i <= 0:\n",
    "    ok = False\n",
    "    print(-1)\n",
    "    \n",
    "if ok:\n",
    "\n",
    "    # 2. j >= i 이면서 A[j] > A[i]를 만족하는 가장 큰 j를 찾는다.\n",
    "    j = n - 1\n",
    "    while j >= i and a[i] > a[j]:\n",
    "        j -= 1\n",
    "\n",
    "    # 3. A[i], A[j] 위치를 바꾼다.\n",
    "    a[i], a[j] = a[j], a[i]\n",
    "\n",
    "    # 4. A[i+1]부터 순열 뒤집는다\n",
    "    temp = a[i+1:]\n",
    "    temp = list(reversed(temp))\n",
    "\n",
    "    a = a[:i+1] + temp\n",
    "    print(''.join(map(str, a)))\n"
   ]
  },
  {
   "cell_type": "code",
   "execution_count": 13,
   "metadata": {},
   "outputs": [
    {
     "name": "stdout",
     "output_type": "stream",
     "text": [
      "7\n",
      "7\n",
      "-1\n"
     ]
    }
   ],
   "source": [
    "def next_permutation(a):\n",
    "    i = len(a)-1\n",
    "    while i > 0 and a[i-1] >= a[i]:\n",
    "        i -= 1\n",
    "    if i <= 0:\n",
    "        return False\n",
    "    j = len(a)-1\n",
    "    while a[j] <= a[i-1]:\n",
    "        j -= 1\n",
    "\n",
    "    a[i-1],a[j] = a[j],a[i-1]\n",
    "\n",
    "    j = len(a)-1\n",
    "    while i < j:\n",
    "        a[i],a[j] = a[j],a[i]\n",
    "        i += 1\n",
    "        j -= 1\n",
    "\n",
    "    return True\n",
    "    \n",
    "    return True\n",
    "\n",
    "n = int(input())\n",
    "a= list(map(int, input().split()))\n",
    "\n",
    "\n",
    "if next_permutation(a):\n",
    "    print(''.join(map(str, a)))\n",
    "else:\n",
    "    print(-1)\n",
    "\n"
   ]
  },
  {
   "cell_type": "markdown",
   "metadata": {},
   "source": [
    "## 이전 순열\n",
    "https://www.acmicpc.net/problem/10972"
   ]
  },
  {
   "cell_type": "code",
   "execution_count": 9,
   "metadata": {},
   "outputs": [
    {
     "name": "stdout",
     "output_type": "stream",
     "text": [
      "7\n",
      "7\n",
      "-1\n"
     ]
    }
   ],
   "source": [
    "def prev_permutation(a):\n",
    "    i = len(a)-1\n",
    "    while i > 0 and a[i-1] <= a[i]:\n",
    "        i -= 1\n",
    "    if i <= 0:\n",
    "        return False\n",
    "    j = len(a)-1\n",
    "    while a[j] >= a[i-1]:\n",
    "        j -= 1\n",
    "\n",
    "    a[i-1],a[j] = a[j],a[i-1]\n",
    "\n",
    "    j = len(a)-1\n",
    "    while i < j:\n",
    "        a[i],a[j] = a[j],a[i]\n",
    "        i += 1\n",
    "        j -= 1\n",
    "\n",
    "    return True\n",
    "\n",
    "n = int(input())\n",
    "a = list(map(int,input().split()))\n",
    "if prev_permutation(a):\n",
    "    print(' '.join(map(str,a)))\n",
    "else:\n",
    "    print(-1)\n"
   ]
  },
  {
   "cell_type": "markdown",
   "metadata": {},
   "source": [
    "## 모든 순열\n",
    "\n",
    "https://www.acmicpc.net/problem/10974"
   ]
  },
  {
   "cell_type": "code",
   "execution_count": 19,
   "metadata": {},
   "outputs": [
    {
     "name": "stdout",
     "output_type": "stream",
     "text": [
      "3\n",
      "1 2 3\n",
      "1 3 2\n",
      "2 1 3\n",
      "2 3 1\n",
      "3 1 2\n",
      "3 2 1\n"
     ]
    }
   ],
   "source": [
    "def next_permutation(a):\n",
    "    i = len(a) - 1\n",
    "    while i > 0 and a[i-1] >= a[i]:\n",
    "        i -= 1\n",
    "    if i <= 0:\n",
    "        return False\n",
    "    j = len(a) - 1\n",
    "    while a[j] <= a[i-1]:\n",
    "        j -=1\n",
    "    \n",
    "    a[i-1],a[j] = a[j],a[i-1]\n",
    "    \n",
    "    j = len(a) - 1\n",
    "    while j > i:\n",
    "        a[i],a[j] = a[j],a[i]\n",
    "        i += 1\n",
    "        j -= 1\n",
    "    return True\n",
    "\n",
    "n = int(input())\n",
    "a = list(range(1,n+1))\n",
    "while True:\n",
    "    print(' '.join(map(str,a)))\n",
    "    if not next_permutation(a):\n",
    "        break"
   ]
  },
  {
   "cell_type": "markdown",
   "metadata": {},
   "source": [
    "## 차이를 최대로 \n",
    "\n",
    "https://www.acmicpc.net/problem/10819"
   ]
  },
  {
   "cell_type": "code",
   "execution_count": 25,
   "metadata": {},
   "outputs": [
    {
     "name": "stdout",
     "output_type": "stream",
     "text": [
      "6\n",
      "20 1 15 8 4 10\n",
      "62\n"
     ]
    }
   ],
   "source": [
    "def next_permutation(a):\n",
    "    i = len(a) - 1\n",
    "    while i > 0 and a[i-1] >= a[i]:\n",
    "        i -= 1\n",
    "    if i <= 0:\n",
    "        return False\n",
    "    \n",
    "    j = len(a) - 1\n",
    "    while a[j] <= a[i-1]:\n",
    "        j -= 1\n",
    "    \n",
    "    a[i-1],a[j] = a[j],a[i-1]\n",
    "    \n",
    "    j = len(a) - 1\n",
    "    while i < j:\n",
    "        a[i],a[j] = a[j],a[i]\n",
    "        i += 1\n",
    "        j -= 1\n",
    "    return True\n",
    "\n",
    "def calc(a):\n",
    "    ans = 0\n",
    "    for i in range(1, len(a)):\n",
    "        ans += abs(a[i] - a[i-1])\n",
    "    return ans\n",
    "\n",
    "n = int(input())\n",
    "a = list(map(int, input().split()))\n",
    "a.sort()\n",
    "ans = 0\n",
    "while True:\n",
    "    temp = calc(a)\n",
    "    ans = max(temp, ans)\n",
    "    if not next_permutation(a):\n",
    "        break\n",
    "print(ans)"
   ]
  },
  {
   "cell_type": "markdown",
   "metadata": {},
   "source": [
    "## 외판원 순회 2"
   ]
  },
  {
   "cell_type": "code",
   "execution_count": 27,
   "metadata": {},
   "outputs": [],
   "source": [
    "# 완전 탐색\n",
    "\n",
    "def next_permutation(a):\n",
    "    i = len(a) - 1\n",
    "    while i > 0 and a[i-1]>= a[i]:\n",
    "        i -= 1\n",
    "    if i <= 0:\n",
    "        return False\n",
    "    \n",
    "    j = len(a) - 1\n",
    "    while a[j] <= a[i-1]:\n",
    "        j -= 1\n",
    "    \n",
    "    a[i-1],a[j] = a[j],a[i-1]\n",
    "    \n",
    "    j = len(a) - 1\n",
    "    while i < j:\n",
    "        a[i],a[j] = a[j],a[i]\n",
    "        i += 1\n",
    "        j -= 1\n",
    "    \n",
    "    return True\n",
    "\n",
    "n = int(input())\n",
    "w = [list(map(int, input().split())) for _ in range(n)]\n",
    "d = list(range(n))\n",
    "\n",
    "ans = 2147483647\n",
    "while True:\n",
    "    ok = True\n",
    "    s = 0\n",
    "    for i in range(0, n-1):\n",
    "        if w[d[i]][d[i+1]] == 0:\n",
    "            ok = False\n",
    "            break\n",
    "        else:\n",
    "            s += w[d[i]][d[i+1]]\n",
    "    # 마지막에서 돌아오는..!\n",
    "    if ok and w[d[-1]][d[0]] != 0:\n",
    "        s += w[d[-1]][d[0]]\n",
    "        ans = min(ans , s)\n",
    "    if not next_permutation(d):\n",
    "        break\n",
    "    \n",
    "    # 첫 시작이 1이 아닐 때는 무시해도 됨\n",
    "    if d[0] != 0:\n",
    "        break\n",
    "        \n",
    "print(ans)\n",
    "\n"
   ]
  },
  {
   "cell_type": "markdown",
   "metadata": {},
   "source": [
    "- 1,2,3,4\n",
    "- 2,3,4,1\n",
    "- 3,4,1,2\n",
    "- 4,1,2,3\n",
    "\n",
    "위의 4가지는 모두 같은 경우 -> 시작점을 1로 고정해도 됨!"
   ]
  },
  {
   "cell_type": "markdown",
   "metadata": {},
   "source": [
    "# 연산자 끼워넣기\n",
    "\n",
    "https://www.acmicpc.net/problem/14888\n",
    "\n",
    "- N개의 수로 이루어진 수열과 N-1개의 연산자가 있다.(2 <= N <= 11)\n",
    "- 이 때, 수와 수 사이에 연산자를 하나씩 끼워넣어서 만들 수 있는 수식 결과의 최대, 최소값 구하는 문제\n",
    "- 수식 계산 -> 연산자 우선순위 무시, 앞에서부터 진행\n",
    "- 수의 순서 바꿀 수 없음"
   ]
  },
  {
   "cell_type": "code",
   "execution_count": null,
   "metadata": {},
   "outputs": [],
   "source": [
    "def next_permutation(a):\n",
    "    i = len(a) - 1\n",
    "    while i > 0 and a[i-1] >= a[i]:\n",
    "        i -= 1\n",
    "    if i <= 0:\n",
    "        return False\n",
    "    j = len(a) - 1\n",
    "    while a[j] <= a[i-1]:\n",
    "        j -= 1\n",
    "    a[i-1],a[j] = a[j],a[i-1]\n",
    "    while j > i:\n",
    "        a[i],a[j] = a[j], a[i]\n",
    "        i += 1\n",
    "        j -= 1\n",
    "    return True\n",
    "\n",
    "def div(a, b):\n",
    "    if a >= 0:\n",
    "        return a // b\n",
    "    else:\n",
    "        return -(-a // b)\n",
    "    \n",
    "def calc(a, b):\n",
    "    n = len(a)\n",
    "    ans = a[0]\n",
    "    for i in range(1,n):\n",
    "        if b[i-1] == 0:\n",
    "            ans = ans + a[i]\n",
    "        elif b[i-1] == 1:\n",
    "            ans = ans - a[1]\n",
    "        elif b[i-1] == 2:\n",
    "            ans = ans * a[i]\n",
    "        else:\n",
    "            ans = div(ans, a[i])\n",
    "    return ans\n",
    "\n",
    "n = int(input())\n",
    "a = list(map(int,input().split()))\n",
    "cnts = list(map(int,input().split()))\n",
    "b = []\n",
    "for i, cnt in enumerate(cnts):\n",
    "    for k in range(cnt):\n",
    "        b.append(i)\n",
    "b.sort()\n",
    "ans = []\n",
    "while True:\n",
    "    temp = calc(a, b)\n",
    "    ans.append(temp)\n",
    "    if not next_permutation(b):\n",
    "        break\n",
    "ans.sort()\n",
    "print(ans[-1])\n",
    "print(ans[0])\n",
    "\n",
    "    "
   ]
  }
 ],
 "metadata": {
  "kernelspec": {
   "display_name": "Python 3",
   "language": "python",
   "name": "python3"
  },
  "language_info": {
   "codemirror_mode": {
    "name": "ipython",
    "version": 3
   },
   "file_extension": ".py",
   "mimetype": "text/x-python",
   "name": "python",
   "nbconvert_exporter": "python",
   "pygments_lexer": "ipython3",
   "version": "3.7.1"
  }
 },
 "nbformat": 4,
 "nbformat_minor": 2
}
