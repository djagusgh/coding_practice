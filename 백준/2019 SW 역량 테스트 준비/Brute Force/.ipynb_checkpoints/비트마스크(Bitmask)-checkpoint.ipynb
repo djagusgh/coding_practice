{
 "cells": [
  {
   "cell_type": "markdown",
   "metadata": {},
   "source": [
    "## 집합\n",
    "\n",
    "https://www.acmicpc.net/problem/11723"
   ]
  },
  {
   "cell_type": "code",
   "execution_count": 5,
   "metadata": {},
   "outputs": [
    {
     "ename": "SyntaxError",
     "evalue": "invalid syntax (<ipython-input-5-d40433209478>, line 21)",
     "output_type": "error",
     "traceback": [
      "\u001b[1;36m  File \u001b[1;32m\"<ipython-input-5-d40433209478>\"\u001b[1;36m, line \u001b[1;32m21\u001b[0m\n\u001b[1;33m    elif op == 'all'\u001b[0m\n\u001b[1;37m                    ^\u001b[0m\n\u001b[1;31mSyntaxError\u001b[0m\u001b[1;31m:\u001b[0m invalid syntax\n"
     ]
    }
   ],
   "source": [
    "import sys\n",
    "\n",
    "n = 20\n",
    "m = int(sys.stdin.readline())\n",
    "s = 0 # 처음 : 공집합\n",
    "for _ in range(m):\n",
    "    op, *num = sys.stdin.readline().split()\n",
    "    if len(num) > 0:\n",
    "        x = int(num[0]) - 1\n",
    "    if op == 'add':\n",
    "        s = (s | (1 << x))\n",
    "    elif op == 'remove':\n",
    "        s = (s & ~(1 << x))\n",
    "    elif op == 'check':\n",
    "        res = (s & (1 << x))\n",
    "        if res > 0:\n",
    "            sys.stdout.write('1\\n')\n",
    "        else:\n",
    "            sys.stdout.write('0\\n')\n",
    "    elif op == 'toggle':\n",
    "        s = (s ^ (1<<x))\n",
    "    elif op == 'all':\n",
    "        s = (1 << n) - 1\n",
    "    else:\n",
    "        s = 0\n",
    "            "
   ]
  },
  {
   "cell_type": "markdown",
   "metadata": {},
   "source": [
    "## 부분수열의 합\n",
    "https://www.acmicpc.net/problem/1182"
   ]
  },
  {
   "cell_type": "code",
   "execution_count": null,
   "metadata": {},
   "outputs": [],
   "source": [
    "n, m = map(int, input().split())\n",
    "a = list(map(int, input().split()))\n",
    "\n",
    "ans = 0\n",
    "for i in range(1, (1<<n)):\n",
    "    s = sum(a[k] for k in range(n) if (i & (1<<k)) > 0)\n",
    "    if m == s:\n",
    "        ans += 1\n",
    "print(ans)\n",
    "    \n"
   ]
  }
 ],
 "metadata": {
  "kernelspec": {
   "display_name": "Python 3",
   "language": "python",
   "name": "python3"
  },
  "language_info": {
   "codemirror_mode": {
    "name": "ipython",
    "version": 3
   },
   "file_extension": ".py",
   "mimetype": "text/x-python",
   "name": "python",
   "nbconvert_exporter": "python",
   "pygments_lexer": "ipython3",
   "version": "3.7.1"
  }
 },
 "nbformat": 4,
 "nbformat_minor": 2
}
