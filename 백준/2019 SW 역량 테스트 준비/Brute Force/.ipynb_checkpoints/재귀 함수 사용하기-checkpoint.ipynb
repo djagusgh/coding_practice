{
 "cells": [
  {
   "cell_type": "markdown",
   "metadata": {},
   "source": [
    "## 1,2,3 더하기\n",
    "\n",
    "https://www.acmicpc.net/problem/9095"
   ]
  },
  {
   "cell_type": "code",
   "execution_count": null,
   "metadata": {},
   "outputs": [],
   "source": [
    "def go(s, goal):\n",
    "    if s > goal:\n",
    "        return 0\n",
    "    if s == goal:\n",
    "        return 1\n",
    "    for i in range(1, 4):\n",
    "        now += go(s+i, goal)\n",
    "    return now"
   ]
  },
  {
   "cell_type": "markdown",
   "metadata": {},
   "source": [
    "## 암호 만들기\n",
    "\n",
    "https://www.acmicpc.net/problem/1759\n"
   ]
  },
  {
   "cell_type": "code",
   "execution_count": 1,
   "metadata": {},
   "outputs": [
    {
     "name": "stdout",
     "output_type": "stream",
     "text": [
      "4 6\n",
      "a t c i s w\n",
      "acis\n",
      "acit\n",
      "aciw\n",
      "acst\n",
      "acsw\n",
      "actw\n",
      "aist\n",
      "aisw\n",
      "aitw\n",
      "astw\n",
      "cist\n",
      "cisw\n",
      "citw\n",
      "istw\n"
     ]
    }
   ],
   "source": [
    "def check(password):\n",
    "    ja = 0\n",
    "    mo = 0\n",
    "    for x in password:\n",
    "        if x in 'aeiou':\n",
    "            mo += 1\n",
    "        else:\n",
    "            ja += 1\n",
    "    \n",
    "    return ja >= 2 and mo >= 1\n",
    "\n",
    "def go(n, alpha, password , i):\n",
    "    # n : 암호의 길이, alpha : 주어진 문자열, i : alpha[i]를 사용할지 말지\n",
    "    # 정답을 찾은 경우 (불가능한 경우보다 앞에 써야한다. 이렇게 안하면 마지막 경우가 안 세짐)\n",
    "    if len(password) == n:\n",
    "        if check(password):\n",
    "            print(password)\n",
    "        return\n",
    "    # 불가능한 경우\n",
    "    if i == len(alpha):\n",
    "        return\n",
    "    go(n, alpha, password + alpha[i], i+1)\n",
    "    go(n, alpha, password, i+1)\n",
    "\n",
    "n, m = map(int, input().split())\n",
    "a = input().split()\n",
    "a.sort()\n",
    "go(n, a, \"\", 0)\n",
    "    \n",
    "    \n",
    "        "
   ]
  },
  {
   "cell_type": "markdown",
   "metadata": {},
   "source": [
    "## 로또\n",
    "\n",
    "https://www.acmicpc.net/problem/1759"
   ]
  },
  {
   "cell_type": "code",
   "execution_count": 2,
   "metadata": {},
   "outputs": [
    {
     "name": "stdout",
     "output_type": "stream",
     "text": [
      "7 1 2 3 4 5 6 7\n",
      "123456\n",
      "123457\n",
      "123467\n",
      "123567\n",
      "124567\n",
      "134567\n",
      "234567\n",
      "\n",
      "0\n"
     ]
    }
   ],
   "source": [
    "def solve(a, index, lotto):\n",
    "    \"\"\"\n",
    "    a : 입력값 , index : a[index]를 lotto 넣을 지 안 넣을 지 결정, lotto : 가능한 조합 \n",
    "    \"\"\"\n",
    "    # 1. 정답을 찾은 경우\n",
    "    if len(lotto) == 6:\n",
    "        print(''.join(map(str,lotto)))\n",
    "        return\n",
    "    # 2. 불가능한 경우\n",
    "    if index == len(a):\n",
    "        return\n",
    "    # 3. 다음 경우\n",
    "    # 두 함수 순서 뒤집으면 사전 순으로 출력되지 않음\n",
    "    solve(a, index+1, lotto+[a[index]])\n",
    "    solve(a, index+1, lotto)\n",
    "\n",
    "while True:\n",
    "    n, *a = list(map(int, input().split()))\n",
    "    if n == 0:\n",
    "        break\n",
    "    solve(a, 0, [])\n",
    "    print()"
   ]
  },
  {
   "cell_type": "markdown",
   "metadata": {},
   "source": [
    "## 부분집합의 합\n",
    "\n",
    "https://www.acmicpc.net/problem/1182\n"
   ]
  },
  {
   "cell_type": "code",
   "execution_count": null,
   "metadata": {},
   "outputs": [],
   "source": [
    "# n : 정수의 갯수, m : 부분집합의 합\n",
    "n, m = map(int, input().split())\n",
    "a = list(map(int, input().split()))\n",
    "\n",
    "ans = 0\n",
    "\n",
    "def go(idx, s):\n",
    "    # idx : 부분 집합에 포함시킬지 말지 결정하는 인덱스\n",
    "    # s : 현재까지의 부분집합의 합\n",
    "    global ans\n",
    "    if idx == n:\n",
    "        # 정답을 찾은 경우, 불가능한 경우\n",
    "        if s == m:\n",
    "            ans += 1\n",
    "        return\n",
    "    # 3. 다음 경우\n",
    "    go(idx+1, s+a[idx])\n",
    "    go(idx+1, s)\n",
    "\n",
    "go(0,0)\n",
    "if m == 0:\n",
    "    # 무조건 go(idx+1, s) 쪽으로만 가면 공집합 []이 됨\n",
    "    # -> sum([]) = 0이 되므로 이 경우도 답이 될 수도 있는데,\n",
    "    # 문제에서 1 <= N <= 20이므로 공집합은 고려하면 안된다. -> 1개 빼줌\n",
    "    ans -= 1\n",
    "print(ans)\n",
    "    "
   ]
  },
  {
   "cell_type": "markdown",
   "metadata": {},
   "source": [
    "## 퇴사\n",
    "\n",
    "https://www.acmicpc.net/problem/14501"
   ]
  },
  {
   "cell_type": "code",
   "execution_count": null,
   "metadata": {},
   "outputs": [],
   "source": [
    "# 처음 : 0일, 퇴사일 : N일로 작성한 코드\n",
    "inf = -10**9\n",
    "n = int(input())\n",
    "t = [0] * (n+1)\n",
    "p = [0] * (n+1)\n",
    "\n",
    "for i in range(1, n+ 1):\n",
    "    t[i], p[i] = map(int, input().split())\n",
    "ans = 0\n",
    "\n",
    "def go(day, s):\n",
    "    global ans\n",
    "    \n",
    "    # 1. 정답인 경우\n",
    "    if day == n+1:\n",
    "        ans = max(ans, s)\n",
    "        return\n",
    "    # 2. 불가능한 경우\n",
    "    if day > n+1:\n",
    "        return\n",
    "    \n",
    "    # 3. 다음 경우\n",
    "    # day 포함 x\n",
    "    go(day+1, s)\n",
    "    # day 포함\n",
    "    go(day+t[day], s+p[day])"
   ]
  },
  {
   "cell_type": "markdown",
   "metadata": {},
   "source": [
    "## 연산자 끼워넣기\n",
    "\n",
    "https://www.acmicpc.net/problem/14888\n",
    "\n",
    "- N개의 수로 이루어진 수열과 N-1개의 연산자가 있다.(2 <= N <= 11)\n",
    "- 이 때, 수와 수 사이에 연산자를 하나씩 끼워넣어서 만들 수 있는 수식 결과의 최대, 최소값 구하는 문제\n",
    "- 수식 계산 -> 연산자 우선순위 무시, 앞에서부터 진행\n",
    "- 수의 순서 바꿀 수 없음"
   ]
  },
  {
   "cell_type": "code",
   "execution_count": null,
   "metadata": {},
   "outputs": [],
   "source": [
    "def calc(a, index, cur, plus, minus, mul, div):\n",
    "    \n",
    "    \"\"\"\n",
    "    a : 입력으로 주어진 수열\n",
    "    index : 현재 계산해야 하는 인덱스\n",
    "    cur : (index - 1)번 째까지 계산한 결과\n",
    "    plus, minus, mul, div : 사용할 수 있는 연산자의 개수\n",
    "    \"\"\"\n",
    "    \n",
    "    if index == len(a):\n",
    "        return (cur, cur)\n",
    "    res = []\n",
    "    if plus > 0:\n",
    "        res.append(calc(a, index+1, cur+a[index], plus-1, minus, mul, div))\n",
    "    if minus > 0:\n",
    "        res.append(calc(a, index+1, cur-a[index], plus, minus-1, mul, div))\n",
    "    if mul > 0:\n",
    "        res.append(calc(a, index+1, cur*a[index], plus, minus, mul-1, div))\n",
    "    if div > 0:\n",
    "        if cur >= 0:\n",
    "            res.append(calc(a, index+1 , cur//a[index], plus, minus, mul, div-1))\n",
    "        else:\n",
    "            res.append(calc(a, index+1, -(-cur//a[index]), plus, minus, mul, div-1))\n",
    "    \n",
    "    ans = (\n",
    "        max([t[0] for t in res]),\n",
    "        min([t[1] for t in res])\n",
    "    )\n",
    "    return ans\n",
    "\n",
    "n = int(input())\n",
    "a = list(map(int, input().split()))\n",
    "plus,minus,mul,div = map(int,input().split())\n",
    "ans = calc(a, 1, a[0], plus, minus, mul, div)\n",
    "print(ans[0])\n",
    "print(ans[1])"
   ]
  },
  {
   "cell_type": "code",
   "execution_count": null,
   "metadata": {},
   "outputs": [],
   "source": []
  }
 ],
 "metadata": {
  "kernelspec": {
   "display_name": "Python 3",
   "language": "python",
   "name": "python3"
  },
  "language_info": {
   "codemirror_mode": {
    "name": "ipython",
    "version": 3
   },
   "file_extension": ".py",
   "mimetype": "text/x-python",
   "name": "python",
   "nbconvert_exporter": "python",
   "pygments_lexer": "ipython3",
   "version": "3.7.1"
  }
 },
 "nbformat": 4,
 "nbformat_minor": 2
}
