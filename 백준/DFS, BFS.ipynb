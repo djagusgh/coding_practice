{
 "cells": [
  {
   "cell_type": "markdown",
   "metadata": {},
   "source": [
    "## 1. 깊이 우선 탐색(Depth First Search)\n",
    "\n",
    "- 스택을 이용하여 갈 수 있을 만큼 최대한 많이 가고\n",
    "갈 수 없으면 이전 정점으로 돌아감"
   ]
  },
  {
   "cell_type": "markdown",
   "metadata": {},
   "source": [
    "## 2. 너비 우선 탐색(Breadth First Search)\n",
    "\n",
    "- queue 사용"
   ]
  },
  {
   "cell_type": "markdown",
   "metadata": {},
   "source": [
    "## 3. 인접 리스트로 구현한 DFS, BFS"
   ]
  },
  {
   "cell_type": "code",
   "execution_count": 2,
   "metadata": {},
   "outputs": [],
   "source": [
    "from collections import deque\n",
    "\n",
    "# 입출력\n",
    "# n : 정점의 갯수, m 간선의 갯수\n",
    "n, m, start = map(int, input().split())\n",
    "edges = []\n",
    "check = [False] * (n + 1)\n",
    "\n",
    "# 간선 리스트 아니냐???\n",
    "for _ in range(m):\n",
    "    u, v = map(int, input().split())\n",
    "    edges.append((u, v))\n",
    "    edges.append((v, u))\n",
    "m *= 2\n",
    "edges.sort()\n",
    "cnt = [0] * (n+1)\n",
    "\n",
    "for u, v in edges:\n",
    "    cnt[u] += 1\n",
    "    \n",
    "for i in range(1, n+1):\n",
    "    cnt[i] += cnt[i - 1]\n",
    "\n",
    "def dfs(x):\n",
    "    global check\n",
    "    check[x] = True\n",
    "    print(x, end= ' ')\n",
    "    for i in range(cnt[x - 1], cnt[x]):\n",
    "        y = edges[i][1]\n",
    "        if check[y] == False:\n",
    "            dfs(y)\n",
    "\n",
    "def bfs(start):\n",
    "    check = [False] * (n+1)\n",
    "    q = deque()\n",
    "    q.append(start)\n",
    "    check[start] = True\n",
    "    while q:\n",
    "        x = q.popleft()\n",
    "        print(x, end= ' ')\n",
    "        for i in range(cnt[x-1], cnt[x]):\n",
    "            y = edges[i][1]\n",
    "            if check[y] == False:\n",
    "                check[y] = True\n",
    "                q.append(y)\n",
    "                \n",
    "dfs(start)\n",
    "print()\n",
    "bfs(start)\n",
    "print()\n",
    "            \n"
   ]
  },
  {
   "cell_type": "code",
   "execution_count": null,
   "metadata": {},
   "outputs": [],
   "source": [
    "from collections import deque\n",
    "n,m,start = map(int,input().split())\n",
    "a = [[] for _ in range(n+1)]\n",
    "for _ in range(m):\n",
    "    u,v = map(int,input().split())\n",
    "    a[u].append(v)\n",
    "    a[v].append(u)\n",
    "for i in range(n):\n",
    "    a[i].sort()\n",
    "\n",
    "def dfs(node):\n",
    "    check = [False] * (n+1)\n",
    "    stack = []\n",
    "    stack.append((node,0))\n",
    "    check[node] = True\n",
    "    print(node, end=' ')\n",
    "    while stack:\n",
    "        x,start = stack.pop()\n",
    "        for i in range(start, len(a[x])):\n",
    "            y = a[x][i]\n",
    "            if check[y] == False:\n",
    "                print(y, end=' ')\n",
    "                check[y] = True\n",
    "                stack.append((x,i+1))\n",
    "                stack.append((y,0))\n",
    "                break\n",
    "\n",
    "def bfs(start):\n",
    "    check = [False] * (n+1)\n",
    "    q = deque()\n",
    "    q.append(start)\n",
    "    check[start] = True\n",
    "    while q:\n",
    "        x = q.popleft()\n",
    "        print(x, end=' ')\n",
    "        for y in a[x]:\n",
    "            if check[y] == False:\n",
    "                check[y] = True\n",
    "                q.append(y)\n",
    "\n",
    "dfs(start)\n",
    "print()\n",
    "bfs(start)\n",
    "print()\n"
   ]
  }
 ],
 "metadata": {
  "kernelspec": {
   "display_name": "Python 3",
   "language": "python",
   "name": "python3"
  },
  "language_info": {
   "codemirror_mode": {
    "name": "ipython",
    "version": 3
   },
   "file_extension": ".py",
   "mimetype": "text/x-python",
   "name": "python",
   "nbconvert_exporter": "python",
   "pygments_lexer": "ipython3",
   "version": "3.7.1"
  }
 },
 "nbformat": 4,
 "nbformat_minor": 2
}
