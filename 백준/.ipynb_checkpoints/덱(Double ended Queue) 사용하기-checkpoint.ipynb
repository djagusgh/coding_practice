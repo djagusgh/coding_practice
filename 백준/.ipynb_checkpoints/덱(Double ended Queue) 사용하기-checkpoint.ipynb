{
 "cells": [
  {
   "cell_type": "markdown",
   "metadata": {},
   "source": [
    "## 덱\n",
    "\n",
    "맨 앞과 마지막에서 push, pop이 모두 가능한 큐"
   ]
  },
  {
   "cell_type": "markdown",
   "metadata": {},
   "source": [
    "## 숨바꼭질 3\n",
    "\n",
    "https://www.acmicpc.net/problem/13549"
   ]
  },
  {
   "cell_type": "code",
   "execution_count": null,
   "metadata": {},
   "outputs": [],
   "source": [
    "# 1. 두 개의 queue 사용해 구현하는 방법\n",
    "\n",
    "from collections import deque\n",
    "\n",
    "MAX = 200000\n",
    "check = [False]*MAX\n",
    "dist = [-1]*MAX\n",
    "\n",
    "n, m = map(int, input().split())\n",
    "check[n] = True\n",
    "dist[n] = 0\n",
    "\n",
    "q = deque()\n",
    "next_queue = deque()\n",
    "q.append(n)\n",
    "\n",
    "while q:\n",
    "    now = q.popleft()\n",
    "    if now * 2 < MAX and check[now*2] == False:\n",
    "        q.append(now*2)\n",
    "        check[now*2] = True\n",
    "        dist[now*2] = dist[now]\n",
    "    if now -1 >= 0 and check[now-1] == False:\n",
    "        next_queue.append(now-1)\n",
    "        check[now-1] = True\n",
    "        dist[now-1] = dist[now] + 1\n",
    "    if now + 1 < MAX and check[now+1] == False:\n",
    "        next_queue.append(now+1)\n",
    "        check[now+1] = True\n",
    "        dist[now+1] = dist[now] + 1\n",
    "    if not q:\n",
    "        q = next_queue\n",
    "        next_queue = deque()\n",
    "\n",
    "print(dist[m])        "
   ]
  },
  {
   "cell_type": "code",
   "execution_count": 10,
   "metadata": {},
   "outputs": [
    {
     "data": {
      "text/plain": [
       "[-10, -7, -4, -1, 2, 5, 8]"
      ]
     },
     "execution_count": 10,
     "metadata": {},
     "output_type": "execute_result"
    }
   ],
   "source": [
    "# 2. 덱을 이용한 방법\n",
    "# 0초 걸리는 순간이동은 덱 앞쪽에 추가, 1초 걸리는 나머지는 덱 뒤쪽에 추가 \n",
    "\n",
    "\n",
    "from collections import deque\n",
    "\n",
    "MAX = 200000\n",
    "check = [False]*MAX\n",
    "dist = [-1]*MAX\n",
    "n,m = map(int, input().split())\n",
    "\n",
    "check[n] = True\n",
    "dist[n] = 0\n",
    "q = deque()\n",
    "q.append(n)\n",
    "\n",
    "while q:\n",
    "    now = q.popleft()\n",
    "    if now*2 < MAX and check[now*2] == False:\n",
    "        q.appendleft(now * 2)\n",
    "        check[now*2] = True\n",
    "        dist[now*2] = dist[now]\n",
    "    if now-1 >= 0 and check[now-1] == False:\n",
    "        q.append(now -1)\n",
    "        check[now -1] = True\n",
    "        dist[now - 1] = dist[now] + 1\n",
    "    if now+1 < MAX and check[now+1] == False:\n",
    "        q.append(now + 1)\n",
    "        check[now+1] = True\n",
    "        dist[now + 1] = dist[now] + 1\n",
    "\n",
    "print(dist[m])"
   ]
  },
  {
   "cell_type": "markdown",
   "metadata": {},
   "source": [
    "## 알고스팟\n",
    "\n",
    "https://www.acmicpc.net/problem/1261\n",
    "\n"
   ]
  },
  {
   "cell_type": "code",
   "execution_count": null,
   "metadata": {},
   "outputs": [],
   "source": [
    "# \n",
    "\n",
    "from collections import deque\n",
    "\n",
    "dx = [0,0,1,-1]\n",
    "dy = [1,-1,0,0]\n",
    "m,n = map(int, input().split())\n",
    "a = [list(map(int, list(input()))) for _ in range(n)]\n",
    "dist = [[-1]*m for _ in range(n)]\n",
    "\n",
    "q = deque()\n",
    "next_queue = deque()\n",
    "\n",
    "q.append((0, 0))\n",
    "dist[0][0] = 0\n",
    "while q:\n",
    "    x, y = q.popleft()\n",
    "    for k in range(4):\n",
    "        nx, ny = x + dx[k], y + dy[k]\n",
    "        if 0 <= nx < n and 0 <= ny < n:\n",
    "            if dist[nx][ny] == -1:\n",
    "                if a[nx][ny] == 0:\n",
    "                    dist[nx][ny] = dist[x][y]\n",
    "                    q.append((nx, ny))\n",
    "                else:\n",
    "                    dist[nx][ny] = dist[x][y] + 1\n",
    "                    next_queue.append((nx, ny))\n",
    "    \n",
    "    if not q:\n",
    "        q = next_queue\n",
    "        next_queue = deque()\n",
    "\n",
    "print(dist[n-1][m-1])"
   ]
  }
 ],
 "metadata": {
  "kernelspec": {
   "display_name": "Python 3",
   "language": "python",
   "name": "python3"
  },
  "language_info": {
   "codemirror_mode": {
    "name": "ipython",
    "version": 3
   },
   "file_extension": ".py",
   "mimetype": "text/x-python",
   "name": "python",
   "nbconvert_exporter": "python",
   "pygments_lexer": "ipython3",
   "version": "3.7.1"
  }
 },
 "nbformat": 4,
 "nbformat_minor": 2
}
